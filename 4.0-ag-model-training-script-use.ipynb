{
 "cells": [
  {
   "cell_type": "markdown",
   "id": "c3bbb3d6",
   "metadata": {},
   "source": [
    "## Training and saving models with the script train.py located in credit_risk_analysis folder"
   ]
  },
  {
   "cell_type": "code",
   "execution_count": 1,
   "id": "09a58834",
   "metadata": {},
   "outputs": [
    {
     "name": "stderr",
     "output_type": "stream",
     "text": [
      "\u001b[32m2025-06-26 22:36:50.416\u001b[0m | \u001b[1mINFO    \u001b[0m | \u001b[36mcredit_risk_analysis.config\u001b[0m:\u001b[36m<module>\u001b[0m:\u001b[36m11\u001b[0m - \u001b[1mPROJ_ROOT path is: C:\\Users\\andre\\iCloudDrive\\Documents_Backup\\Digital_Bullet_Journal\\Education\\Data Science\\Anyone AI\\5. Final_Project\\credit_risk_analysis\u001b[0m\n"
     ]
    }
   ],
   "source": [
    "from credit_risk_analysis.modeling import train"
   ]
  },
  {
   "cell_type": "code",
   "execution_count": null,
   "id": "e23e3504",
   "metadata": {},
   "outputs": [
    {
     "name": "stdout",
     "output_type": "stream",
     "text": [
      "\u001b[32m2025-06-26 22:00:34.539\u001b[0m | \u001b[1mINFO    \u001b[0m | \u001b[36mcredit_risk_analysis.modeling.train\u001b[0m:\u001b[36mmain\u001b[0m:\u001b[36m550\u001b[0m - \u001b[1mTraining some model...\u001b[0m\n",
      "Loaded X shape: (40000, 127), y shape: (40000, 1)\n",
      "Target distribution:\n",
      "TARGET_LABEL_BAD=1\n",
      "0    0.7381\n",
      "1    0.2619\n",
      "Name: proportion, dtype: float64\n",
      "Loaded X_val shape: (10000, 127), y_val shape: (10000, 1)\n",
      "Validation target distribution:\n",
      "TARGET_LABEL_BAD=1\n",
      "0    0.7435\n",
      "1    0.2565\n",
      "Name: proportion, dtype: float64\n",
      "\n",
      "Train set distribution:\n",
      "TARGET_LABEL_BAD=1\n",
      "0    0.738094\n",
      "1    0.261906\n",
      "Name: proportion, dtype: float64\n",
      "Test set distribution:\n",
      "TARGET_LABEL_BAD=1\n",
      "0    0.738125\n",
      "1    0.261875\n",
      "Name: proportion, dtype: float64\n",
      "\n",
      "Using provided validation data for early stopping.\n",
      "\n",
      "Starting Hyperparameter Tuning...\n",
      "Fitting 5 folds for each of 1 candidates, totalling 5 fits\n"
     ]
    },
    {
     "name": "stderr",
     "output_type": "stream",
     "text": [
      "2025/06/26 22:01:26 INFO mlflow.sklearn.utils: Logging the 5 best runs, no runs will be omitted.\n"
     ]
    },
    {
     "name": "stdout",
     "output_type": "stream",
     "text": [
      "\n",
      "Best parameters found: {'model__colsample_bytree': 0.7, 'model__gamma': 0.5, 'model__learning_rate': 0.1, 'model__max_depth': 3, 'model__n_estimators': 200, 'model__reg_alpha': 1, 'model__reg_lambda': 1, 'model__subsample': 1.0, 'pca__n_components': 0.95}\n",
      "Best F1-score (CV): 0.3589\n",
      "\n",
      "Test Accuracy: 0.5968\n",
      "Test ROC AUC: 0.6215\n",
      "Test PR AUC: 0.3436\n",
      "\n",
      "Test Classification Report:\n",
      "               precision    recall  f1-score   support\n",
      "\n",
      "           0       0.80      0.61      0.69      5905\n",
      "           1       0.34      0.56      0.42      2095\n",
      "\n",
      "    accuracy                           0.60      8000\n",
      "   macro avg       0.57      0.59      0.56      8000\n",
      "weighted avg       0.68      0.60      0.62      8000\n",
      "\n",
      "\n",
      "Val Accuracy: 0.5462\n",
      "Val ROC AUC: 0.6007\n",
      "Val PR AUC: 0.3260\n",
      "\n",
      "Val Classification Report:\n",
      "               precision    recall  f1-score   support\n",
      "\n",
      "           0       0.80      0.52      0.63      7435\n",
      "           1       0.31      0.63      0.42      2565\n",
      "\n",
      "    accuracy                           0.55     10000\n",
      "   macro avg       0.56      0.57      0.52     10000\n",
      "weighted avg       0.68      0.55      0.57     10000\n",
      "\n",
      "Feature importance plot saved to reports/figures/feature_importance_xgb.png\n",
      "Model saved to models/xgb_model.pkl\n",
      "\n",
      "MLflow Run completed successfully: a411855897b04919bc55c3381a8104cc\n",
      "\u001b[32m2025-06-26 22:01:40.310\u001b[0m | \u001b[32m\u001b[1mSUCCESS \u001b[0m | \u001b[36mcredit_risk_analysis.modeling.train\u001b[0m:\u001b[36mmain\u001b[0m:\u001b[36m561\u001b[0m - \u001b[32m\u001b[1mModeling training complete.\u001b[0m\n"
     ]
    }
   ],
   "source": [
    "train.main(model_name=\"xgb_model\", model_path=\"models/xgb_model.pkl\", experiment_name=\"xgb_model_unbalanced_data\")"
   ]
  },
  {
   "cell_type": "code",
   "execution_count": 3,
   "id": "0e70dbed",
   "metadata": {},
   "outputs": [
    {
     "name": "stdout",
     "output_type": "stream",
     "text": [
      "\u001b[32m2025-06-26 22:05:09.324\u001b[0m | \u001b[1mINFO    \u001b[0m | \u001b[36mcredit_risk_analysis.modeling.train\u001b[0m:\u001b[36mmain\u001b[0m:\u001b[36m550\u001b[0m - \u001b[1mTraining some model...\u001b[0m\n",
      "Loaded X shape: (40000, 127), y shape: (40000, 1)\n",
      "Target distribution:\n",
      "TARGET_LABEL_BAD=1\n",
      "0    0.7381\n",
      "1    0.2619\n",
      "Name: proportion, dtype: float64\n",
      "Loaded X_val shape: (10000, 127), y_val shape: (10000, 1)\n",
      "Validation target distribution:\n",
      "TARGET_LABEL_BAD=1\n",
      "0    0.7435\n",
      "1    0.2565\n",
      "Name: proportion, dtype: float64\n",
      "\n",
      "Train set distribution:\n",
      "TARGET_LABEL_BAD=1\n",
      "0    0.738094\n",
      "1    0.261906\n",
      "Name: proportion, dtype: float64\n",
      "Test set distribution:\n",
      "TARGET_LABEL_BAD=1\n",
      "0    0.738125\n",
      "1    0.261875\n",
      "Name: proportion, dtype: float64\n",
      "\n",
      "Training Stacked Model with Diverse Base Learners...\n"
     ]
    },
    {
     "name": "stderr",
     "output_type": "stream",
     "text": [
      "2025/06/26 22:05:10 INFO mlflow.utils.autologging_utils: Created MLflow autologging run with ID '06701e0bace84ab1a9eeea752e46ade7', which will track hyperparameters, performance metrics, model artifacts, and lineage information for the current sklearn workflow\n",
      "2025/06/26 22:05:10 WARNING mlflow.sklearn: Failed to log training dataset information to MLflow Tracking. Reason: 'Series' object has no attribute 'flatten'\n",
      "2025/06/26 22:05:10 WARNING mlflow.sklearn: Model was missing function: predict. Not logging python_function flavor!\n",
      "2025/06/26 22:05:16 INFO mlflow.utils.autologging_utils: Created MLflow autologging run with ID '0cb3aa5791e3433f842b15be6ea2534f', which will track hyperparameters, performance metrics, model artifacts, and lineage information for the current sklearn workflow\n",
      "2025/06/26 22:05:16 WARNING mlflow.sklearn: Failed to log training dataset information to MLflow Tracking. Reason: 'Series' object has no attribute 'flatten'\n"
     ]
    },
    {
     "name": "stdout",
     "output_type": "stream",
     "text": [
      "\n",
      "Stacked Model - Classification Report:\n",
      "              precision    recall  f1-score   support\n",
      "\n",
      "           0       0.81      0.55      0.65      5905\n",
      "           1       0.33      0.62      0.43      2095\n",
      "\n",
      "    accuracy                           0.57      8000\n",
      "   macro avg       0.57      0.59      0.54      8000\n",
      "weighted avg       0.68      0.57      0.60      8000\n",
      "\n",
      "ROC AUC: 0.6170\n",
      "PR AUC: 0.3429\n",
      "Confusion matrix plot saved.\n",
      "\n",
      "Stacked Model - Classification Report Validation:\n",
      "              precision    recall  f1-score   support\n",
      "\n",
      "           0       0.82      0.44      0.58      7435\n",
      "           1       0.31      0.71      0.43      2565\n",
      "\n",
      "    accuracy                           0.51     10000\n",
      "   macro avg       0.56      0.58      0.50     10000\n",
      "weighted avg       0.69      0.51      0.54     10000\n",
      "\n",
      "ROC AUC: 0.6050\n",
      "PR AUC: 0.3252\n",
      "Confusion matrix plot saved.\n",
      "Confusion matrix plot saved.\n",
      "Confusion matrix plot saved.\n",
      "Model saved to models/stacking_model.pkl\n",
      "Stacked model training complete and saved.\n",
      "\u001b[32m2025-06-26 22:33:04.069\u001b[0m | \u001b[32m\u001b[1mSUCCESS \u001b[0m | \u001b[36mcredit_risk_analysis.modeling.train\u001b[0m:\u001b[36mmain\u001b[0m:\u001b[36m561\u001b[0m - \u001b[32m\u001b[1mModeling training complete.\u001b[0m\n"
     ]
    }
   ],
   "source": [
    "train.main(model_name=\"stacking_model\",model_path=\"models/stacking_model.pkl\", experiment_name=\"stacking_model\")"
   ]
  },
  {
   "cell_type": "code",
   "execution_count": 2,
   "id": "22a9d6d8",
   "metadata": {},
   "outputs": [
    {
     "name": "stdout",
     "output_type": "stream",
     "text": [
      "\u001b[32m2025-06-26 22:37:00.150\u001b[0m | \u001b[1mINFO    \u001b[0m | \u001b[36mcredit_risk_analysis.modeling.train\u001b[0m:\u001b[36mmain\u001b[0m:\u001b[36m551\u001b[0m - \u001b[1mTraining some model...\u001b[0m\n",
      "Loaded X shape: (40000, 127), y shape: (40000, 1)\n",
      "Target distribution:\n",
      "TARGET_LABEL_BAD=1\n",
      "0    0.7381\n",
      "1    0.2619\n",
      "Name: proportion, dtype: float64\n",
      "Loaded X_val shape: (10000, 127), y_val shape: (10000, 1)\n",
      "Validation target distribution:\n",
      "TARGET_LABEL_BAD=1\n",
      "0    0.7435\n",
      "1    0.2565\n",
      "Name: proportion, dtype: float64\n",
      "\n",
      "Train set distribution:\n",
      "TARGET_LABEL_BAD=1\n",
      "0    0.738094\n",
      "1    0.261906\n",
      "Name: proportion, dtype: float64\n",
      "Test set distribution:\n",
      "TARGET_LABEL_BAD=1\n",
      "0    0.738125\n",
      "1    0.261875\n",
      "Name: proportion, dtype: float64\n",
      "\n",
      "Iniciando busca por hiperparâmetros (MLP)...\n",
      "Fitting 5 folds for each of 24 candidates, totalling 120 fits\n"
     ]
    },
    {
     "name": "stderr",
     "output_type": "stream",
     "text": [
      "2025/06/26 22:38:54 INFO mlflow.sklearn.utils: Logging the 5 best runs, 19 runs will be omitted.\n"
     ]
    },
    {
     "name": "stdout",
     "output_type": "stream",
     "text": [
      "\n",
      "Melhores parâmetros encontrados: {'model__activation': 'tanh', 'model__alpha': 0.0001, 'model__hidden_layer_sizes': (128, 64), 'model__learning_rate_init': 0.001, 'pca__n_components': 0.95}\n",
      "Melhor F0.5-score (CV): 0.0866\n",
      "\n",
      "Test Accuracy: 0.7352\n",
      "Test ROC AUC: 0.6093\n",
      "Test PR AUC: 0.3296\n",
      "\n",
      "Test Classification Report:\n",
      "               precision    recall  f1-score   support\n",
      "\n",
      "           0       0.74      0.99      0.85      5905\n",
      "           1       0.36      0.01      0.03      2095\n",
      "\n",
      "    accuracy                           0.74      8000\n",
      "   macro avg       0.55      0.50      0.44      8000\n",
      "weighted avg       0.64      0.74      0.63      8000\n",
      "\n",
      "\n",
      "Val Accuracy: 0.7358\n",
      "Val ROC AUC: 0.5981\n",
      "Val PR AUC: 0.3191\n",
      "\n",
      "Val Classification Report:\n",
      "               precision    recall  f1-score   support\n",
      "\n",
      "           0       0.74      0.98      0.85      7435\n",
      "           1       0.28      0.02      0.04      2565\n",
      "\n",
      "    accuracy                           0.74     10000\n",
      "   macro avg       0.51      0.50      0.44     10000\n",
      "weighted avg       0.63      0.74      0.64     10000\n",
      "\n",
      "\n",
      "MLflow Run concluído com sucesso: 7dec1e01a3114ce9ac078d760be7ab71\n",
      "Model saved to models/mlp_model.pkl\n",
      "\u001b[32m2025-06-26 22:39:02.856\u001b[0m | \u001b[32m\u001b[1mSUCCESS \u001b[0m | \u001b[36mcredit_risk_analysis.modeling.train\u001b[0m:\u001b[36mmain\u001b[0m:\u001b[36m562\u001b[0m - \u001b[32m\u001b[1mModeling training complete.\u001b[0m\n"
     ]
    }
   ],
   "source": [
    "train.main(model_name=\"mlp_model\",model_path=\"models/mlp_model.pkl\", experiment_name=\"mlp_model\")"
   ]
  },
  {
   "cell_type": "code",
   "execution_count": null,
   "id": "07f7730b",
   "metadata": {},
   "outputs": [],
   "source": []
  }
 ],
 "metadata": {
  "kernelspec": {
   "display_name": "final_project_anyoneai_venv",
   "language": "python",
   "name": "python3"
  },
  "language_info": {
   "codemirror_mode": {
    "name": "ipython",
    "version": 3
   },
   "file_extension": ".py",
   "mimetype": "text/x-python",
   "name": "python",
   "nbconvert_exporter": "python",
   "pygments_lexer": "ipython3",
   "version": "3.12.3"
  }
 },
 "nbformat": 4,
 "nbformat_minor": 5
}
