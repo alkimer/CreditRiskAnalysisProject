{
 "cells": [
  {
   "cell_type": "code",
   "execution_count": null,
   "id": "initial_id",
   "metadata": {
    "ExecuteTime": {
     "end_time": "2025-05-27T16:07:01.635065Z",
     "start_time": "2025-05-27T16:07:01.555559Z"
    },
    "collapsed": true
   },
   "outputs": [
    {
     "ename": "ImportError",
     "evalue": "Missing optional dependency 'xlrd'. Install xlrd >= 2.0.1 for xls Excel support Use pip or conda to install xlrd.",
     "output_type": "error",
     "traceback": [
      "\u001b[0;31m---------------------------------------------------------------------------\u001b[0m",
      "\u001b[0;31mModuleNotFoundError\u001b[0m                       Traceback (most recent call last)",
      "File \u001b[0;32m~/Anyone/FinalProject/risk/lib/python3.10/site-packages/pandas/compat/_optional.py:135\u001b[0m, in \u001b[0;36mimport_optional_dependency\u001b[0;34m(name, extra, errors, min_version)\u001b[0m\n\u001b[1;32m    134\u001b[0m \u001b[38;5;28;01mtry\u001b[39;00m:\n\u001b[0;32m--> 135\u001b[0m     module \u001b[38;5;241m=\u001b[39m \u001b[43mimportlib\u001b[49m\u001b[38;5;241;43m.\u001b[39;49m\u001b[43mimport_module\u001b[49m\u001b[43m(\u001b[49m\u001b[43mname\u001b[49m\u001b[43m)\u001b[49m\n\u001b[1;32m    136\u001b[0m \u001b[38;5;28;01mexcept\u001b[39;00m \u001b[38;5;167;01mImportError\u001b[39;00m:\n",
      "File \u001b[0;32m/usr/lib/python3.10/importlib/__init__.py:126\u001b[0m, in \u001b[0;36mimport_module\u001b[0;34m(name, package)\u001b[0m\n\u001b[1;32m    125\u001b[0m         level \u001b[38;5;241m+\u001b[39m\u001b[38;5;241m=\u001b[39m \u001b[38;5;241m1\u001b[39m\n\u001b[0;32m--> 126\u001b[0m \u001b[38;5;28;01mreturn\u001b[39;00m \u001b[43m_bootstrap\u001b[49m\u001b[38;5;241;43m.\u001b[39;49m\u001b[43m_gcd_import\u001b[49m\u001b[43m(\u001b[49m\u001b[43mname\u001b[49m\u001b[43m[\u001b[49m\u001b[43mlevel\u001b[49m\u001b[43m:\u001b[49m\u001b[43m]\u001b[49m\u001b[43m,\u001b[49m\u001b[43m \u001b[49m\u001b[43mpackage\u001b[49m\u001b[43m,\u001b[49m\u001b[43m \u001b[49m\u001b[43mlevel\u001b[49m\u001b[43m)\u001b[49m\n",
      "File \u001b[0;32m<frozen importlib._bootstrap>:1050\u001b[0m, in \u001b[0;36m_gcd_import\u001b[0;34m(name, package, level)\u001b[0m\n",
      "File \u001b[0;32m<frozen importlib._bootstrap>:1027\u001b[0m, in \u001b[0;36m_find_and_load\u001b[0;34m(name, import_)\u001b[0m\n",
      "File \u001b[0;32m<frozen importlib._bootstrap>:1004\u001b[0m, in \u001b[0;36m_find_and_load_unlocked\u001b[0;34m(name, import_)\u001b[0m\n",
      "\u001b[0;31mModuleNotFoundError\u001b[0m: No module named 'xlrd'",
      "\nDuring handling of the above exception, another exception occurred:\n",
      "\u001b[0;31mImportError\u001b[0m                               Traceback (most recent call last)",
      "Cell \u001b[0;32mIn[3], line 8\u001b[0m\n\u001b[1;32m      5\u001b[0m pd\u001b[38;5;241m.\u001b[39mset_option(\u001b[38;5;124m'\u001b[39m\u001b[38;5;124mdisplay.expand_frame_repr\u001b[39m\u001b[38;5;124m'\u001b[39m, \u001b[38;5;28;01mFalse\u001b[39;00m)\n\u001b[1;32m      6\u001b[0m pd\u001b[38;5;241m.\u001b[39mset_option(\u001b[38;5;124m'\u001b[39m\u001b[38;5;124mdisplay.max_colwidth\u001b[39m\u001b[38;5;124m'\u001b[39m, \u001b[38;5;28;01mNone\u001b[39;00m)\n\u001b[0;32m----> 8\u001b[0m variables_df \u001b[38;5;241m=\u001b[39m \u001b[43mpd\u001b[49m\u001b[38;5;241;43m.\u001b[39;49m\u001b[43mread_excel\u001b[49m\u001b[43m(\u001b[49m\u001b[38;5;124;43m\"\u001b[39;49m\u001b[38;5;124;43m../external/PAKDD2010_VariablesList.XLS\u001b[39;49m\u001b[38;5;124;43m\"\u001b[39;49m\u001b[43m)\u001b[49m\n\u001b[1;32m      9\u001b[0m column_names \u001b[38;5;241m=\u001b[39m variables_df[\u001b[38;5;124m'\u001b[39m\u001b[38;5;124mVar_Title\u001b[39m\u001b[38;5;124m'\u001b[39m]\u001b[38;5;241m.\u001b[39mhead(\u001b[38;5;241m53\u001b[39m)\u001b[38;5;241m.\u001b[39mtolist()\n\u001b[1;32m     11\u001b[0m data_df \u001b[38;5;241m=\u001b[39m pd\u001b[38;5;241m.\u001b[39mread_csv(\u001b[38;5;124m\"\u001b[39m\u001b[38;5;124m../external/PAKDD2010_Leaderboard_Data.txt\u001b[39m\u001b[38;5;124m\"\u001b[39m, sep\u001b[38;5;241m=\u001b[39m\u001b[38;5;124m'\u001b[39m\u001b[38;5;130;01m\\t\u001b[39;00m\u001b[38;5;124m'\u001b[39m, header\u001b[38;5;241m=\u001b[39m\u001b[38;5;28;01mNone\u001b[39;00m)\n",
      "File \u001b[0;32m~/Anyone/FinalProject/risk/lib/python3.10/site-packages/pandas/io/excel/_base.py:495\u001b[0m, in \u001b[0;36mread_excel\u001b[0;34m(io, sheet_name, header, names, index_col, usecols, dtype, engine, converters, true_values, false_values, skiprows, nrows, na_values, keep_default_na, na_filter, verbose, parse_dates, date_parser, date_format, thousands, decimal, comment, skipfooter, storage_options, dtype_backend, engine_kwargs)\u001b[0m\n\u001b[1;32m    493\u001b[0m \u001b[38;5;28;01mif\u001b[39;00m \u001b[38;5;129;01mnot\u001b[39;00m \u001b[38;5;28misinstance\u001b[39m(io, ExcelFile):\n\u001b[1;32m    494\u001b[0m     should_close \u001b[38;5;241m=\u001b[39m \u001b[38;5;28;01mTrue\u001b[39;00m\n\u001b[0;32m--> 495\u001b[0m     io \u001b[38;5;241m=\u001b[39m \u001b[43mExcelFile\u001b[49m\u001b[43m(\u001b[49m\n\u001b[1;32m    496\u001b[0m \u001b[43m        \u001b[49m\u001b[43mio\u001b[49m\u001b[43m,\u001b[49m\n\u001b[1;32m    497\u001b[0m \u001b[43m        \u001b[49m\u001b[43mstorage_options\u001b[49m\u001b[38;5;241;43m=\u001b[39;49m\u001b[43mstorage_options\u001b[49m\u001b[43m,\u001b[49m\n\u001b[1;32m    498\u001b[0m \u001b[43m        \u001b[49m\u001b[43mengine\u001b[49m\u001b[38;5;241;43m=\u001b[39;49m\u001b[43mengine\u001b[49m\u001b[43m,\u001b[49m\n\u001b[1;32m    499\u001b[0m \u001b[43m        \u001b[49m\u001b[43mengine_kwargs\u001b[49m\u001b[38;5;241;43m=\u001b[39;49m\u001b[43mengine_kwargs\u001b[49m\u001b[43m,\u001b[49m\n\u001b[1;32m    500\u001b[0m \u001b[43m    \u001b[49m\u001b[43m)\u001b[49m\n\u001b[1;32m    501\u001b[0m \u001b[38;5;28;01melif\u001b[39;00m engine \u001b[38;5;129;01mand\u001b[39;00m engine \u001b[38;5;241m!=\u001b[39m io\u001b[38;5;241m.\u001b[39mengine:\n\u001b[1;32m    502\u001b[0m     \u001b[38;5;28;01mraise\u001b[39;00m \u001b[38;5;167;01mValueError\u001b[39;00m(\n\u001b[1;32m    503\u001b[0m         \u001b[38;5;124m\"\u001b[39m\u001b[38;5;124mEngine should not be specified when passing \u001b[39m\u001b[38;5;124m\"\u001b[39m\n\u001b[1;32m    504\u001b[0m         \u001b[38;5;124m\"\u001b[39m\u001b[38;5;124man ExcelFile - ExcelFile already has the engine set\u001b[39m\u001b[38;5;124m\"\u001b[39m\n\u001b[1;32m    505\u001b[0m     )\n",
      "File \u001b[0;32m~/Anyone/FinalProject/risk/lib/python3.10/site-packages/pandas/io/excel/_base.py:1567\u001b[0m, in \u001b[0;36mExcelFile.__init__\u001b[0;34m(self, path_or_buffer, engine, storage_options, engine_kwargs)\u001b[0m\n\u001b[1;32m   1564\u001b[0m \u001b[38;5;28mself\u001b[39m\u001b[38;5;241m.\u001b[39mengine \u001b[38;5;241m=\u001b[39m engine\n\u001b[1;32m   1565\u001b[0m \u001b[38;5;28mself\u001b[39m\u001b[38;5;241m.\u001b[39mstorage_options \u001b[38;5;241m=\u001b[39m storage_options\n\u001b[0;32m-> 1567\u001b[0m \u001b[38;5;28mself\u001b[39m\u001b[38;5;241m.\u001b[39m_reader \u001b[38;5;241m=\u001b[39m \u001b[38;5;28;43mself\u001b[39;49m\u001b[38;5;241;43m.\u001b[39;49m\u001b[43m_engines\u001b[49m\u001b[43m[\u001b[49m\u001b[43mengine\u001b[49m\u001b[43m]\u001b[49m\u001b[43m(\u001b[49m\n\u001b[1;32m   1568\u001b[0m \u001b[43m    \u001b[49m\u001b[38;5;28;43mself\u001b[39;49m\u001b[38;5;241;43m.\u001b[39;49m\u001b[43m_io\u001b[49m\u001b[43m,\u001b[49m\n\u001b[1;32m   1569\u001b[0m \u001b[43m    \u001b[49m\u001b[43mstorage_options\u001b[49m\u001b[38;5;241;43m=\u001b[39;49m\u001b[43mstorage_options\u001b[49m\u001b[43m,\u001b[49m\n\u001b[1;32m   1570\u001b[0m \u001b[43m    \u001b[49m\u001b[43mengine_kwargs\u001b[49m\u001b[38;5;241;43m=\u001b[39;49m\u001b[43mengine_kwargs\u001b[49m\u001b[43m,\u001b[49m\n\u001b[1;32m   1571\u001b[0m \u001b[43m\u001b[49m\u001b[43m)\u001b[49m\n",
      "File \u001b[0;32m~/Anyone/FinalProject/risk/lib/python3.10/site-packages/pandas/io/excel/_xlrd.py:45\u001b[0m, in \u001b[0;36mXlrdReader.__init__\u001b[0;34m(self, filepath_or_buffer, storage_options, engine_kwargs)\u001b[0m\n\u001b[1;32m     33\u001b[0m \u001b[38;5;250m\u001b[39m\u001b[38;5;124;03m\"\"\"\u001b[39;00m\n\u001b[1;32m     34\u001b[0m \u001b[38;5;124;03mReader using xlrd engine.\u001b[39;00m\n\u001b[1;32m     35\u001b[0m \n\u001b[0;32m   (...)\u001b[0m\n\u001b[1;32m     42\u001b[0m \u001b[38;5;124;03m    Arbitrary keyword arguments passed to excel engine.\u001b[39;00m\n\u001b[1;32m     43\u001b[0m \u001b[38;5;124;03m\"\"\"\u001b[39;00m\n\u001b[1;32m     44\u001b[0m err_msg \u001b[38;5;241m=\u001b[39m \u001b[38;5;124m\"\u001b[39m\u001b[38;5;124mInstall xlrd >= 2.0.1 for xls Excel support\u001b[39m\u001b[38;5;124m\"\u001b[39m\n\u001b[0;32m---> 45\u001b[0m \u001b[43mimport_optional_dependency\u001b[49m\u001b[43m(\u001b[49m\u001b[38;5;124;43m\"\u001b[39;49m\u001b[38;5;124;43mxlrd\u001b[39;49m\u001b[38;5;124;43m\"\u001b[39;49m\u001b[43m,\u001b[49m\u001b[43m \u001b[49m\u001b[43mextra\u001b[49m\u001b[38;5;241;43m=\u001b[39;49m\u001b[43merr_msg\u001b[49m\u001b[43m)\u001b[49m\n\u001b[1;32m     46\u001b[0m \u001b[38;5;28msuper\u001b[39m()\u001b[38;5;241m.\u001b[39m\u001b[38;5;21m__init__\u001b[39m(\n\u001b[1;32m     47\u001b[0m     filepath_or_buffer,\n\u001b[1;32m     48\u001b[0m     storage_options\u001b[38;5;241m=\u001b[39mstorage_options,\n\u001b[1;32m     49\u001b[0m     engine_kwargs\u001b[38;5;241m=\u001b[39mengine_kwargs,\n\u001b[1;32m     50\u001b[0m )\n",
      "File \u001b[0;32m~/Anyone/FinalProject/risk/lib/python3.10/site-packages/pandas/compat/_optional.py:138\u001b[0m, in \u001b[0;36mimport_optional_dependency\u001b[0;34m(name, extra, errors, min_version)\u001b[0m\n\u001b[1;32m    136\u001b[0m \u001b[38;5;28;01mexcept\u001b[39;00m \u001b[38;5;167;01mImportError\u001b[39;00m:\n\u001b[1;32m    137\u001b[0m     \u001b[38;5;28;01mif\u001b[39;00m errors \u001b[38;5;241m==\u001b[39m \u001b[38;5;124m\"\u001b[39m\u001b[38;5;124mraise\u001b[39m\u001b[38;5;124m\"\u001b[39m:\n\u001b[0;32m--> 138\u001b[0m         \u001b[38;5;28;01mraise\u001b[39;00m \u001b[38;5;167;01mImportError\u001b[39;00m(msg)\n\u001b[1;32m    139\u001b[0m     \u001b[38;5;28;01mreturn\u001b[39;00m \u001b[38;5;28;01mNone\u001b[39;00m\n\u001b[1;32m    141\u001b[0m \u001b[38;5;66;03m# Handle submodules: if we have submodule, grab parent module from sys.modules\u001b[39;00m\n",
      "\u001b[0;31mImportError\u001b[0m: Missing optional dependency 'xlrd'. Install xlrd >= 2.0.1 for xls Excel support Use pip or conda to install xlrd."
     ]
    }
   ],
   "source": [
    "import pandas as pd\n",
    "from IPython.display import display, HTML\n",
    "\n",
    "pd.set_option('display.max_columns', None)\n",
    "pd.set_option('display.expand_frame_repr', False)\n",
    "pd.set_option('display.max_colwidth', None)\n",
    "\n",
    "variables_df = pd.read_excel(\"../external/PAKDD2010_VariablesList.XLS\")\n",
    "column_names = variables_df['Var_Title'].head(53).tolist()\n",
    "\n",
    "data_df = pd.read_csv(\"../external/PAKDD2010_Leaderboard_Data.txt\", sep='\\t', header=None)\n",
    "\n",
    "# mergeamos cabeceras con datos\n",
    "data_df.columns = column_names\n",
    "\n",
    "# mostrar primeras 10\n",
    "display(HTML(data_df.head(10).to_html(index=False)))\n"
   ]
  },
  {
   "cell_type": "markdown",
   "id": "290aecea9139ecdd",
   "metadata": {},
   "source": [
    "Anánlisis de datos\n",
    "\n"
   ]
  },
  {
   "cell_type": "code",
   "execution_count": 9,
   "id": "9f056d3c1a6e7e92",
   "metadata": {
    "ExecuteTime": {
     "end_time": "2025-05-27T19:20:22.262016Z",
     "start_time": "2025-05-27T19:20:22.247565Z"
    }
   },
   "outputs": [
    {
     "name": "stdout",
     "output_type": "stream",
     "text": [
      "(20000, 53)\n",
      "ID_CLIENT                           int64\n",
      "CLERK_TYPE                         object\n",
      "PAYMENT_DAY                         int64\n",
      "APPLICATION_SUBMISSION_TYPE        object\n",
      "QUANT_ADDITIONAL_CARDS              int64\n",
      "POSTAL_ADDRESS_TYPE                 int64\n",
      "SEX                                object\n",
      "MARITAL_STATUS                      int64\n",
      "QUANT_DEPENDANTS                    int64\n",
      "EDUCATION_LEVEL                     int64\n",
      "STATE_OF_BIRTH                     object\n",
      "CITY_OF_BIRTH                      object\n",
      "NACIONALITY                        object\n",
      "RESIDENCIAL_STATE                  object\n",
      "RESIDENCIAL_CITY                   object\n",
      "RESIDENCIAL_BOROUGH                object\n",
      "FLAG_RESIDENCIAL_PHONE             object\n",
      "RESIDENCIAL_PHONE_AREA_CODE        object\n",
      "RESIDENCE_TYPE                    float64\n",
      "MONTHS_IN_RESIDENCE               float64\n",
      "FLAG_MOBILE_PHONE                  object\n",
      "FLAG_EMAIL                          int64\n",
      "PERSONAL_MONTHLY_INCOME           float64\n",
      "OTHER_INCOMES                     float64\n",
      "FLAG_VISA                           int64\n",
      "FLAG_MASTERCARD                     int64\n",
      "FLAG_DINERS                         int64\n",
      "FLAG_AMERICAN_EXPRESS               int64\n",
      "FLAG_OTHER_CARDS                    int64\n",
      "QUANT_BANKING_ACCOUNTS              int64\n",
      "QUANT_SPECIAL_BANKING_ACCOUNTS      int64\n",
      "PERSONAL_ASSETS_VALUE               int64\n",
      "QUANT_CARS                          int64\n",
      "COMPANY                            object\n",
      "PROFESSIONAL_STATE                 object\n",
      "PROFESSIONAL_CITY                  object\n",
      "PROFESSIONAL_BOROUGH               object\n",
      "FLAG_PROFESSIONAL_PHONE            object\n",
      "PROFESSIONAL_PHONE_AREA_CODE       object\n",
      "MONTHS_IN_THE_JOB                   int64\n",
      "PROFESSION_CODE                     int64\n",
      "OCCUPATION_TYPE                   float64\n",
      "MATE_PROFESSION_CODE              float64\n",
      "EDUCATION_LEVEL                   float64\n",
      "FLAG_HOME_ADDRESS_DOCUMENT          int64\n",
      "FLAG_RG                             int64\n",
      "FLAG_CPF                            int64\n",
      "FLAG_INCOME_PROOF                   int64\n",
      "PRODUCT                             int64\n",
      "FLAG_ACSP_RECORD                   object\n",
      "AGE                                 int64\n",
      "RESIDENCIAL_ZIP_3                  object\n",
      "PROFESSIONAL_ZIP_3                 object\n",
      "dtype: object\n"
     ]
    }
   ],
   "source": [
    "\n",
    "print(data_df.shape)\n",
    "print(data_df.dtypes)\n",
    "\n"
   ]
  },
  {
   "cell_type": "markdown",
   "id": "69c2151355e5bf2f",
   "metadata": {},
   "source": [
    "Análisis de nulos\n"
   ]
  },
  {
   "cell_type": "code",
   "execution_count": 8,
   "id": "9ceb2b0d265291d7",
   "metadata": {
    "ExecuteTime": {
     "end_time": "2025-05-27T19:19:46.264221Z",
     "start_time": "2025-05-27T19:19:46.190166Z"
    }
   },
   "outputs": [
    {
     "name": "stdout",
     "output_type": "stream",
     "text": [
      "ID_CLIENT                             0\n",
      "CLERK_TYPE                            0\n",
      "PAYMENT_DAY                           0\n",
      "APPLICATION_SUBMISSION_TYPE           0\n",
      "QUANT_ADDITIONAL_CARDS                0\n",
      "POSTAL_ADDRESS_TYPE                   0\n",
      "SEX                                   0\n",
      "MARITAL_STATUS                        0\n",
      "QUANT_DEPENDANTS                      0\n",
      "EDUCATION_LEVEL                       0\n",
      "STATE_OF_BIRTH                        0\n",
      "CITY_OF_BIRTH                        10\n",
      "NACIONALITY                           0\n",
      "RESIDENCIAL_STATE                     1\n",
      "RESIDENCIAL_CITY                      1\n",
      "RESIDENCIAL_BOROUGH                   1\n",
      "FLAG_RESIDENCIAL_PHONE                0\n",
      "RESIDENCIAL_PHONE_AREA_CODE           0\n",
      "RESIDENCE_TYPE                      616\n",
      "MONTHS_IN_RESIDENCE                2663\n",
      "FLAG_MOBILE_PHONE                     0\n",
      "FLAG_EMAIL                            0\n",
      "PERSONAL_MONTHLY_INCOME               0\n",
      "OTHER_INCOMES                         0\n",
      "FLAG_VISA                             0\n",
      "FLAG_MASTERCARD                       0\n",
      "FLAG_DINERS                           0\n",
      "FLAG_AMERICAN_EXPRESS                 0\n",
      "FLAG_OTHER_CARDS                      0\n",
      "QUANT_BANKING_ACCOUNTS                0\n",
      "QUANT_SPECIAL_BANKING_ACCOUNTS        0\n",
      "PERSONAL_ASSETS_VALUE                 0\n",
      "QUANT_CARS                            0\n",
      "COMPANY                               0\n",
      "PROFESSIONAL_STATE                    0\n",
      "PROFESSIONAL_CITY                 14206\n",
      "PROFESSIONAL_BOROUGH              14206\n",
      "FLAG_PROFESSIONAL_PHONE               0\n",
      "PROFESSIONAL_PHONE_AREA_CODE          0\n",
      "MONTHS_IN_THE_JOB                     0\n",
      "PROFESSION_CODE                       0\n",
      "OCCUPATION_TYPE                    2437\n",
      "MATE_PROFESSION_CODE              18729\n",
      "EDUCATION_LEVEL                   19539\n",
      "FLAG_HOME_ADDRESS_DOCUMENT            0\n",
      "FLAG_RG                               0\n",
      "FLAG_CPF                              0\n",
      "FLAG_INCOME_PROOF                     0\n",
      "PRODUCT                               0\n",
      "FLAG_ACSP_RECORD                      0\n",
      "AGE                                   0\n",
      "RESIDENCIAL_ZIP_3                     0\n",
      "PROFESSIONAL_ZIP_3                    0\n",
      "dtype: int64\n"
     ]
    }
   ],
   "source": [
    "print(data_df.isnull().sum())"
   ]
  },
  {
   "cell_type": "markdown",
   "id": "634a7aa692fa0b9a",
   "metadata": {},
   "source": [
    "\n",
    "Podríamos descartar estos 4 por la cantidad de nulos:\n",
    "\n",
    "MATE_PROFESSION_CODE              18729\n",
    "EDUCATION_LEVEL                   19539\n",
    "PROFESSIONAL_CITY                 14206\n",
    "PROFESSIONAL_BOROUGH              14206\n",
    "\n",
    "Tenemos que establecer una estrategia para los que tienen pocos nulos:\n",
    "\n",
    "CITY_OF_BIRTH                        10\n",
    "RESIDENCIAL_STATE                     1\n",
    "RESIDENCIAL_CITY                      1\n",
    "RESIDENCIAL_BOROUGH                   1\n",
    "RESIDENCE_TYPE                      616\n",
    "MONTHS_IN_RESIDENCE                2663\n",
    "OCCUPATION_TYPE                    2437\n",
    "\n",
    "\n",
    "mediana para las numéricas  ?\n",
    "más frecuente para las categóricas ?\n",
    "\n",
    "Revisar variables categóricas:\n",
    "\n",
    "\n",
    "\n"
   ]
  },
  {
   "cell_type": "code",
   "execution_count": null,
   "id": "737d34e5f9298bd3",
   "metadata": {},
   "outputs": [],
   "source": [
    "print(df['columna_categ'].value_counts())\n"
   ]
  },
  {
   "cell_type": "markdown",
   "id": "91b20555be0b623b",
   "metadata": {},
   "source": [
    "limpiar error de tipeo"
   ]
  },
  {
   "cell_type": "code",
   "execution_count": null,
   "id": "73a4b2b97d766769",
   "metadata": {},
   "outputs": [],
   "source": [
    "df['columna'] = df['columna'].str.lower().str.strip()\n"
   ]
  },
  {
   "cell_type": "markdown",
   "id": "e96a723f524857fe",
   "metadata": {},
   "source": [
    "Codificación de variables categóricas para modelos lineares"
   ]
  },
  {
   "cell_type": "code",
   "execution_count": null,
   "id": "60e153867df53245",
   "metadata": {},
   "outputs": [],
   "source": [
    "from sklearn.preprocessing import OneHotEncoder\n",
    "df = pd.get_dummies(df, columns=['columna_categ'])\n"
   ]
  },
  {
   "cell_type": "markdown",
   "id": "10aef838a232ca04",
   "metadata": {},
   "source": [
    "para árboles"
   ]
  },
  {
   "cell_type": "code",
   "execution_count": null,
   "id": "f015b54953fba3a4",
   "metadata": {},
   "outputs": [],
   "source": [
    "df['columna_categ'] = df['columna_categ'].astype('category').cat.codes\n"
   ]
  },
  {
   "cell_type": "markdown",
   "id": "da6bf2b0b18ed0cf",
   "metadata": {},
   "source": [
    "DETECTAR OUTLIERS\n",
    "\n",
    "REEMPLAZAR POR PERCENTILES ?\n",
    "\n",
    "NORMALIZACÓN Y ESCALADO."
   ]
  }
 ],
 "metadata": {
  "kernelspec": {
   "display_name": "risk",
   "language": "python",
   "name": "python3"
  },
  "language_info": {
   "codemirror_mode": {
    "name": "ipython",
    "version": 3
   },
   "file_extension": ".py",
   "mimetype": "text/x-python",
   "name": "python",
   "nbconvert_exporter": "python",
   "pygments_lexer": "ipython3",
   "version": "3.10.17"
  }
 },
 "nbformat": 4,
 "nbformat_minor": 5
}
