{
 "cells": [
  {
   "cell_type": "code",
   "execution_count": null,
   "id": "initial_id",
   "metadata": {
    "ExecuteTime": {
     "end_time": "2025-05-27T16:07:01.635065Z",
     "start_time": "2025-05-27T16:07:01.555559Z"
    },
    "collapsed": true
   },
   "outputs": [],
   "source": [
    "import pandas as pd\n",
    "\n",
    "from IPython.display import display, HTML\n",
    "\n",
    "from dotenv import load_dotenv\n",
    "\n",
    "load_dotenv()\n",
    "\n",
    "pd.set_option('display.max_columns', None)\n",
    "pd.set_option('display.expand_frame_repr', False)\n",
    "pd.set_option('display.max_colwidth', None)\n",
    "\n",
    "variables_df = pd.read_excel(\"./external/PAKDD2010_VariablesList.XLS\")\n",
    "column_names = variables_df['Var_Title'].head(53).tolist()\n",
    "\n",
    "data_df = pd.read_csv(\"./external/PAKDD2010_Leaderboard_Data.txt\", sep='\\t', header=None)\n",
    "\n",
    "# mergeamos cabeceras con datos\n",
    "data_df.columns = column_names\n",
    "\n",
    "# mostrar primeras 10\n",
    "display(HTML(data_df.head(10).to_html(index=False)))\n"
   ]
  },
  {
   "cell_type": "markdown",
   "id": "290aecea9139ecdd",
   "metadata": {},
   "source": [
    "Anánlisis de datos\n",
    "\n"
   ]
  },
  {
   "cell_type": "code",
   "execution_count": null,
   "id": "9f056d3c1a6e7e92",
   "metadata": {
    "ExecuteTime": {
     "end_time": "2025-05-27T19:20:22.262016Z",
     "start_time": "2025-05-27T19:20:22.247565Z"
    }
   },
   "outputs": [],
   "source": [
    "\n",
    "print(data_df.shape)\n",
    "print(data_df.dtypes)\n",
    "\n"
   ]
  },
  {
   "cell_type": "markdown",
   "id": "69c2151355e5bf2f",
   "metadata": {},
   "source": [
    "Análisis de nulos\n"
   ]
  },
  {
   "cell_type": "code",
   "execution_count": null,
   "id": "9ceb2b0d265291d7",
   "metadata": {
    "ExecuteTime": {
     "end_time": "2025-05-27T19:19:46.264221Z",
     "start_time": "2025-05-27T19:19:46.190166Z"
    }
   },
   "outputs": [],
   "source": [
    "print(data_df.isnull().sum())"
   ]
  },
  {
   "cell_type": "markdown",
   "id": "634a7aa692fa0b9a",
   "metadata": {},
   "source": [
    "\n",
    "Podríamos descartar estos 4 por la cantidad de nulos:\n",
    "\n",
    "MATE_PROFESSION_CODE              18729\n",
    "EDUCATION_LEVEL                   19539\n",
    "PROFESSIONAL_CITY                 14206\n",
    "PROFESSIONAL_BOROUGH              14206\n",
    "\n",
    "Tenemos que establecer una estrategia para los que tienen pocos nulos:\n",
    "\n",
    "CITY_OF_BIRTH                        10\n",
    "RESIDENCIAL_STATE                     1\n",
    "RESIDENCIAL_CITY                      1\n",
    "RESIDENCIAL_BOROUGH                   1\n",
    "RESIDENCE_TYPE                      616\n",
    "MONTHS_IN_RESIDENCE                2663\n",
    "OCCUPATION_TYPE                    2437\n",
    "\n",
    "\n",
    "mediana para las numéricas  ?\n",
    "más frecuente para las categóricas ?\n",
    "\n",
    "Revisar variables categóricas:\n",
    "\n",
    "\n",
    "\n"
   ]
  },
  {
   "cell_type": "code",
   "execution_count": null,
   "id": "737d34e5f9298bd3",
   "metadata": {},
   "outputs": [],
   "source": [
    "print(df['columna_categ'].value_counts())\n"
   ]
  },
  {
   "cell_type": "markdown",
   "id": "91b20555be0b623b",
   "metadata": {},
   "source": [
    "limpiar error de tipeo"
   ]
  },
  {
   "cell_type": "code",
   "execution_count": null,
   "id": "73a4b2b97d766769",
   "metadata": {},
   "outputs": [],
   "source": [
    "df['columna'] = df['columna'].str.lower().str.strip()\n"
   ]
  },
  {
   "cell_type": "markdown",
   "id": "e96a723f524857fe",
   "metadata": {},
   "source": [
    "Codificación de variables categóricas para modelos lineares"
   ]
  },
  {
   "cell_type": "code",
   "execution_count": null,
   "id": "60e153867df53245",
   "metadata": {},
   "outputs": [],
   "source": [
    "from sklearn.preprocessing import OneHotEncoder\n",
    "df = pd.get_dummies(df, columns=['columna_categ'])\n"
   ]
  },
  {
   "cell_type": "markdown",
   "id": "10aef838a232ca04",
   "metadata": {},
   "source": [
    "para árboles"
   ]
  },
  {
   "cell_type": "code",
   "execution_count": null,
   "id": "f015b54953fba3a4",
   "metadata": {},
   "outputs": [],
   "source": [
    "df['columna_categ'] = df['columna_categ'].astype('category').cat.codes\n"
   ]
  },
  {
   "cell_type": "markdown",
   "id": "da6bf2b0b18ed0cf",
   "metadata": {},
   "source": [
    "DETECTAR OUTLIERS\n",
    "\n",
    "REEMPLAZAR POR PERCENTILES ?\n",
    "\n",
    "NORMALIZACÓN Y ESCALADO."
   ]
  }
 ],
 "metadata": {
  "kernelspec": {
   "display_name": "Python 3",
   "language": "python",
   "name": "python3"
  },
  "language_info": {
   "codemirror_mode": {
    "name": "ipython",
    "version": 3
   },
   "file_extension": ".py",
   "mimetype": "text/x-python",
   "name": "python",
   "nbconvert_exporter": "python",
   "pygments_lexer": "ipython3",
   "version": "3.10.0"
  }
 },
 "nbformat": 4,
 "nbformat_minor": 5
}
