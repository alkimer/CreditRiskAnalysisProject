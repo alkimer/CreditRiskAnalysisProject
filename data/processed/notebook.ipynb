{
 "cells": [
  {
   "cell_type": "code",
   "execution_count": 48,
   "metadata": {},
   "outputs": [],
   "source": [
    "import pandas as pd\n",
    "from imblearn.over_sampling import SMOTE"
   ]
  },
  {
   "cell_type": "code",
   "execution_count": 49,
   "metadata": {},
   "outputs": [],
   "source": [
    "X_train = pd.read_csv('X_train_balanced.csv')\n",
    "X_val = pd.read_csv('X_val_p.csv')\n",
    "y_train = pd.read_csv('y_train_balanced.csv')\n",
    "y_val = pd.read_csv('y_val.csv')"
   ]
  },
  {
   "cell_type": "code",
   "execution_count": 53,
   "metadata": {},
   "outputs": [
    {
     "data": {
      "text/plain": [
       "target\n",
       "0         29524\n",
       "1         29524\n",
       "Name: count, dtype: int64"
      ]
     },
     "execution_count": 53,
     "metadata": {},
     "output_type": "execute_result"
    }
   ],
   "source": [
    "y_train.value_counts() #normalize=True)"
   ]
  },
  {
   "cell_type": "code",
   "execution_count": 33,
   "metadata": {},
   "outputs": [
    {
     "name": "stdout",
     "output_type": "stream",
     "text": [
      "Dimensiones originales de ytrain:\n",
      "TARGET_LABEL_BAD=1\n",
      "0                     29524\n",
      "1                     10476\n",
      "Name: count, dtype: int64\n",
      "\n",
      "Dimensiones de ytrain después de SMOTE:\n",
      "TARGET_LABEL_BAD=1\n",
      "0                     29524\n",
      "1                     14762\n",
      "Name: count, dtype: int64\n"
     ]
    }
   ],
   "source": [
    "smote = SMOTE(random_state=42, sampling_strategy=0.5)\n",
    "\n",
    "# Aplicar SMOTE solo a los datos de entrenamiento\n",
    "xtrain_balanceado, ytrain_balanceado = smote.fit_resample(X_train, y_train)\n",
    "\n",
    "print(\"Dimensiones originales de ytrain:\")\n",
    "print(y_train.value_counts())\n",
    "print(\"\\nDimensiones de ytrain después de SMOTE:\")\n",
    "print(ytrain_balanceado.value_counts())"
   ]
  }
 ],
 "metadata": {
  "kernelspec": {
   "display_name": "risk",
   "language": "python",
   "name": "python3"
  },
  "language_info": {
   "codemirror_mode": {
    "name": "ipython",
    "version": 3
   },
   "file_extension": ".py",
   "mimetype": "text/x-python",
   "name": "python",
   "nbconvert_exporter": "python",
   "pygments_lexer": "ipython3",
   "version": "3.10.17"
  }
 },
 "nbformat": 4,
 "nbformat_minor": 2
}
