{
 "cells": [
  {
   "cell_type": "code",
   "execution_count": null,
   "metadata": {},
   "outputs": [],
   "source": [
    "import pandas as pd\n",
    "from imblearn.over_sampling import SMOTE\n",
    "from imblearn.over_sampling import SMOTENC"
   ]
  },
  {
   "cell_type": "code",
   "execution_count": null,
   "metadata": {},
   "outputs": [],
   "source": [
    "X_train = pd.read_csv('X_train_balanced.csv')\n",
    "X_val = pd.read_csv('X_val_p.csv')\n",
    "y_train = pd.read_csv('y_train_balanced.csv')\n",
    "y_val = pd.read_csv('y_val.csv')"
   ]
  },
  {
   "cell_type": "code",
   "execution_count": 3,
   "metadata": {},
   "outputs": [
    {
     "data": {
      "text/plain": [
       "target\n",
       "0         29524\n",
       "1         29524\n",
       "Name: count, dtype: int64"
      ]
     },
     "execution_count": 3,
     "metadata": {},
     "output_type": "execute_result"
    }
   ],
   "source": [
    "y_train.value_counts() #normalize=True)"
   ]
  },
  {
   "cell_type": "code",
   "execution_count": null,
   "metadata": {},
   "outputs": [
    {
     "ename": "NameError",
     "evalue": "name 'SMOTE' is not defined",
     "output_type": "error",
     "traceback": [
      "\u001b[0;31m---------------------------------------------------------------------------\u001b[0m",
      "\u001b[0;31mNameError\u001b[0m                                 Traceback (most recent call last)",
      "Cell \u001b[0;32mIn[1], line 1\u001b[0m\n\u001b[0;32m----> 1\u001b[0m smote \u001b[38;5;241m=\u001b[39m \u001b[43mSMOTE\u001b[49m(random_state\u001b[38;5;241m=\u001b[39m\u001b[38;5;241m42\u001b[39m, sampling_strategy\u001b[38;5;241m=\u001b[39m\u001b[38;5;241m0.5\u001b[39m)\n\u001b[1;32m      3\u001b[0m \u001b[38;5;66;03m# Aplicar SMOTE solo a los datos de entrenamiento\u001b[39;00m\n\u001b[1;32m      4\u001b[0m xtrain_balanceado, ytrain_balanceado \u001b[38;5;241m=\u001b[39m smote\u001b[38;5;241m.\u001b[39mfit_resample(X_train, y_train)\n",
      "\u001b[0;31mNameError\u001b[0m: name 'SMOTE' is not defined"
     ]
    }
   ],
   "source": [
    "def apply_smote(X, y, random_state=42):\n",
    "    \"\"\"\n",
    "    Applies SMOTE to balance the dataset.\n",
    "    \n",
    "    Args:\n",
    "        X (pd.DataFrame): Features\n",
    "        y (pd.Series or array): Target\n",
    "        random_state (int): Seed for reproducibility\n",
    "        \n",
    "    Returns:\n",
    "        X_resampled (pd.DataFrame), y_resampled (pd.Series)\n",
    "    \"\"\"\n",
    "    \n",
    "    sm = SMOTE(random_state=random_state)    # sampling_strategy=0.5)\n",
    "    \n",
    "    X_res, y_res = sm.fit_resample(X, y.values.ravel())\n",
    "    X_resampled = pd.DataFrame(X_res, columns=X.columns)\n",
    "    y_resampled = pd.Series(y_res, name=\"target\")\n",
    "    \n",
    "    return X_resampled, y_resampled\n",
    "\n",
    "\n",
    "def smotenc(X, y, categorical_features, random_state=42):\n",
    "    \"\"\"\n",
    "    Applies SMOTENC to balance the dataset with categorical features.\n",
    "\n",
    "    Args:\n",
    "        X (pd.DataFrame): Features\n",
    "        y (pd.Series or array): Target\n",
    "        categorical_features (list): List of column indices (not names) that are categorical\n",
    "        random_state (int): Seed for reproducibility\n",
    "\n",
    "    Returns:\n",
    "        X_resampled (pd.DataFrame), y_resampled (pd.Series)\n",
    "    \"\"\"\n",
    "    sm = SMOTENC(categorical_features=categorical_features, random_state=random_state)\n",
    "\n",
    "    X_res, y_res = sm.fit_resample(X.values, y.values.ravel())\n",
    "\n",
    "    X_resampled = pd.DataFrame(X_res, columns=X.columns)\n",
    "    y_resampled = pd.Series(y_res, name=\"target\")\n",
    "\n",
    "    return X_resampled, y_resampled"
   ]
  },
  {
   "cell_type": "code",
   "execution_count": null,
   "metadata": {},
   "outputs": [],
   "source": [
    "smote = SMOTE(random_state=42, sampling_strategy=0.5)\n",
    "\n",
    "# Aplicar SMOTE solo a los datos de entrenamiento\n",
    "xtrain_balanceado, ytrain_balanceado = smote.fit_resample(X_train, y_train)\n",
    "\n",
    "print(\"Dimensiones originales de ytrain:\")\n",
    "print(y_train.value_counts())\n",
    "print(\"\\nDimensiones de ytrain después de SMOTE:\")\n",
    "print(ytrain_balanceado.value_counts())"
   ]
  },
  {
   "cell_type": "code",
   "execution_count": null,
   "metadata": {},
   "outputs": [],
   "source": [
    "X_train_discrete = pd.read_csv('./interim/X_train_discrete.csv')\n"
   ]
  },
  {
   "cell_type": "code",
   "execution_count": 9,
   "metadata": {},
   "outputs": [
    {
     "data": {
      "text/plain": [
       "ID_CLIENT  CLERK_TYPE  APPLICATION_SUBMISSION_TYPE  POSTAL_ADDRESS_TYPE  SEX  STATE_OF_BIRTH  CITY_OF_BIRTH       NACIONALITY  RESIDENCIAL_STATE  RESIDENCIAL_CITY       RESIDENCIAL_BOROUGH  FLAG_RESIDENCIAL_PHONE  RESIDENCIAL_PHONE_AREA_CODE  RESIDENCE_TYPE  FLAG_MOBILE_PHONE  FLAG_EMAIL  PERSONAL_MONTHLY_INCOME  OTHER_INCOMES  FLAG_VISA  FLAG_MASTERCARD  FLAG_DINERS  FLAG_AMERICAN_EXPRESS  FLAG_OTHER_CARDS  PERSONAL_ASSETS_VALUE  COMPANY  PROFESSIONAL_STATE  PROFESSIONAL_CITY      PROFESSIONAL_BOROUGH  FLAG_PROFESSIONAL_PHONE  PROFESSIONAL_PHONE_AREA_CODE  OCCUPATION_TYPE  EDUCATION_LEVEL.1  FLAG_HOME_ADDRESS_DOCUMENT  FLAG_RG  FLAG_CPF  FLAG_INCOME_PROOF  PRODUCT  FLAG_ACSP_RECORD  RESIDENCIAL_ZIP_3  PROFESSIONAL_ZIP_3  TARGET_LABEL_BAD  PAYMENT_DAY_CAT  PAYMENT_DAY_TE  MARITAL_STATUS_CAT  MARITAL_STATUS_TE  QUANT_DEPENDANTS_BIN  QUANT_DEPENDANTS_TE  MONTHS_IN_RESIDENCE_IMPUTED  MONTHS_IN_RESIDENCE_BIN  MONTHS_IN_RESIDENCE_TE  QUANT_BANKING_ACCOUNTS_NORM  QUANT_CARS_CLEAN  AGE_NORM  PROFESSION_CODE_IMPUTED  PROFESSION_CODE_CAT  PROFESSION_CODE_TE  OCCUPATION_TYPE_IMPUTED\n",
       "49983      C           0                            1                    M    RJ              RIO DE JANEIRO      1            RJ                 NOVA FRIBURGO          RIOGRANDINA          Y                       22                           1.0             N                  0           620.0                    0.0            0          0                0            0                      0                 0.0                    Y        RJ                  NOVA FRIBURGO          CONSELHEIRO PAULINO   Y                        22                            0.0              0.0                0                           0        0         0                  1        N                 286                286                 0                 15               0.273427        1                   0.303541           0                     0.261103             15.0                         12-23                    0.244815                0.5                          1                 0.37      9.0                      9.0                  0.262846            0.0                        1\n",
       "6          C           0                            1                    M    MG              CARMO DO RIO CLARO  1            MG                 ALFENAS                Campos Eliseos       Y                       33                           1.0             N                  1           500.0                    0.0            0          0                0            0                      0                 0.0                    Y        MG                  ALFENAS                JARDIM SAO CARLOS     N                                                      2.0              0.0                0                           0        0         0                  2        N                 371                371                 1                 10               0.231357        2                   0.243772           0                     0.261103             4.0                          1-5                      0.278008                0.5                          1                 0.34      9.0                      9.0                  0.262846            2.0                        1\n",
       "10         C           0                            1                    F    RS              SANTA MARIA         1            RS                 PORTO ALEGRE           BOM JESUS            Y                       54                           1.0             N                  1           1507.0                   0.0            1          1                0            0                      0                 0.0                    Y        RS                  PORTO ALEGRE           MENINO DEUS           Y                        54                            2.0              0.0                0                           0        0         0                  1        N                 914                914                 0                 5                0.240511        1                   0.303541           0                     0.261103             5.0                          1-5                      0.278008                0.5                          1                 0.35      9.0                      9.0                  0.262846            2.0                        1\n",
       "18         C           0                            1                    F    RJ              RIO DE JANEIRO      1            RJ                 MENDES                 HUMBERTO ANTUNES     Y                       24                           1.0             N                  1           457.0                    134.0          0          0                0            0                      0                 50000.0                Y        RJ                  MENDES                 CENTRO                Y                        24                            2.0              0.0                0                           0        0         0                  1        N                 267                267                 0                 10               0.231357        1                   0.303541           0                     0.261103             25.0                         24+                      0.228663                0.0                          1                 0.26      13.0                     13.0                 0.200803            2.0                        1\n",
       "25         C           0                            1                    F    PB              JOAO PESSOA         1            PB                 JOAO PESSOA            MANDACARU            Y                       103                          1.0             N                  0           865.0                    0.0            0          0                0            0                      0                 0.0                    Y        PB                  JOAO PESSOA            CENTRO                Y                        103                           5.0              0.0                0                           0        0         0                  1        N                 580                580                 0                 10               0.231357        5                   0.240116           0                     0.261103             3.0                          1-5                      0.278008                0.5                          1                 0.41      9.0                      9.0                  0.262846            5.0                        1\n",
       "                                                                                                                                                                                                                                                                                                                                                                                                                                                                                                                                                                                                                                                                                                                                                                                                                                                                                                                                                                                                                                                                                                                                    ..\n",
       "161        C           0                            2                    F    MT              COXIM               1            MT                 SORRISO                BENJAMIN RAIZER      N                                                    2.0             N                  0           642.0                    0.0            0          0                0            0                      0                 0.0                    Y        MT                  SORRISO                CENTRO                Y                        73                            2.0              0.0                0                           0        0         0                  1        N                 788                788                 0                 15               0.273427        2                   0.243772           0                     0.261103             2.0                          1-5                      0.278008                0.5                          1                 0.39      9.0                      9.0                  0.262846            2.0                        1\n",
       "140        C           Web                          1                    F    BA              urucuca             1            SP                 sao paulo              vila sao jose        Y                       5                            2.0             N                  1           660.0                    0.0            0          0                0            0                      0                 0.0                    Y        SP                  sao paulo              sao miguel            Y                        5                             5.0              3.0                0                           0        0         0                  1        N                 814                814                 0                 20               0.297072        2                   0.243772           4+                    0.302230             1.0                          1-5                      0.278008                0.0                          0                 0.29      9.0                      9.0                  0.262846            5.0                        1\n",
       "139        C           0                            1                    M                                        0            SP                 PEDREIRA               MARAJOARA            Y                       18                           1.0             N                  1           630.0                    0.0            0          0                0            0                      0                 0.0                    N                                                                         N                                                      5.0              0.0                0                           0        0         0                  2        N                 139                139                 1                 10               0.231357        2                   0.243772           0                     0.261103             0.0                          0                        0.256804                0.5                          1                 0.34      11.0                     11.0                 0.234364            5.0                        1\n",
       "135        C           0                            1                    F    RS              PELOTAS             1            RS                 Pelotas                areal                Y                       58                           1.0             N                  0           394.0                    0.0            1          1                0            0                      0                 0.0                    Y        RS                  PELOTAS                CENTRO                Y                        58                            2.0              0.0                0                           0        0         0                  1        N                 960                960                 0                 10               0.231357        2                   0.243772           0                     0.261103             12.0                         12-23                    0.244815                0.5                          1                 0.21      9.0                      9.0                  0.262846            2.0                        1\n",
       "133        C           0                            1                    F    SP              CARDOSO             1            SP                 SAO JOSE DO RIO PRETO  EST ALVORADA         Y                       15                           1.0             N                  1           400.0                    0.0            0          0                0            0                      0                 0.0                    Y        SP                  SAO JOS EOD RIO PRETO  HIGENOPOLIS           Y                        15                            0.0              0.0                0                           0        0         0                  1        N                 150                150                 1                 15               0.273427        2                   0.243772           1-3                   0.259588             2.0                          1-5                      0.278008                0.5                          1                 0.24      0.0                      0.0                  0.256920            0.0                        1\n",
       "Name: count, Length: 4795, dtype: int64"
      ]
     },
     "execution_count": 9,
     "metadata": {},
     "output_type": "execute_result"
    }
   ],
   "source": [
    "X_train_discrete.value_counts()"
   ]
  }
 ],
 "metadata": {
  "kernelspec": {
   "display_name": "risk",
   "language": "python",
   "name": "python3"
  },
  "language_info": {
   "codemirror_mode": {
    "name": "ipython",
    "version": 3
   },
   "file_extension": ".py",
   "mimetype": "text/x-python",
   "name": "python",
   "nbconvert_exporter": "python",
   "pygments_lexer": "ipython3",
   "version": "3.10.17"
  }
 },
 "nbformat": 4,
 "nbformat_minor": 2
}
