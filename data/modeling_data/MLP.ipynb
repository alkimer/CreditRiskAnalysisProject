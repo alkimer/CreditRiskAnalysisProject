{
 "cells": [
  {
   "cell_type": "markdown",
   "metadata": {},
   "source": []
  },
  {
   "cell_type": "markdown",
   "metadata": {},
   "source": [
    "# Multi Layer Perceptron"
   ]
  },
  {
   "cell_type": "markdown",
   "metadata": {},
   "source": [
    "## Start"
   ]
  },
  {
   "cell_type": "code",
   "execution_count": 2,
   "metadata": {},
   "outputs": [],
   "source": [
    "import pandas as pd\n",
    "from sklearn.neural_network import MLPClassifier\n",
    "from sklearn.metrics import accuracy_score, precision_score, recall_score, f1_score, confusion_matrix, classification_report  \n",
    "  \n",
    "# Training\n",
    "X_train = pd.read_csv('../processed/X_train_balanced.csv') #'../processed/v2/X_train_processed.csv'\n",
    "y_train = pd.read_csv('../processed/y_train_balanced.csv').squeeze() #'../processed/v2/X_train_processed.csv'\n",
    "\n",
    "# Validation\n",
    "X_val = pd.read_csv('../processed/X_val_p.csv') # '../processed/v2/X_val_processed.csv'\n",
    "y_val = pd.read_csv('../processed/y_val.csv').squeeze()   # '../processed/v2/y_val.csv'"
   ]
  },
  {
   "cell_type": "code",
   "execution_count": 3,
   "metadata": {},
   "outputs": [
    {
     "name": "stderr",
     "output_type": "stream",
     "text": [
      "/home/aac/Anyone/FinalProject/risk/lib/python3.10/site-packages/sklearn/neural_network/_multilayer_perceptron.py:691: ConvergenceWarning: Stochastic Optimizer: Maximum iterations (300) reached and the optimization hasn't converged yet.\n",
      "  warnings.warn(\n"
     ]
    }
   ],
   "source": [
    "hidden_layers = [20, 40, 60]\n",
    "\n",
    "trained_mlp_list = []\n",
    "for i in hidden_layers:\n",
    "    mlp = MLPClassifier(hidden_layer_sizes=(i,),\n",
    "                        activation='relu',\n",
    "                        solver='adam',\n",
    "                        max_iter=300,\n",
    "                        random_state=42)    \n",
    "    mlp.fit(X_train, y_train)\n",
    "    trained_mlp_list.append(mlp)"
   ]
  },
  {
   "cell_type": "code",
   "execution_count": null,
   "metadata": {},
   "outputs": [
    {
     "name": "stdout",
     "output_type": "stream",
     "text": [
      "\n",
      "\n",
      "--- Hidden Layers: 20 ---\n",
      "\n",
      "Accuracy: 0.585\n",
      "Precision: 0.3234573401648474\n",
      "Recall: 0.5660818713450292\n",
      "F1 Score: 0.41168131556563653\n",
      "\n",
      "Confusion Matrix:\n",
      "[[4398 3037]\n",
      " [1113 1452]]\n",
      "\n",
      "Classification Report:\n",
      "              precision    recall  f1-score   support\n",
      "\n",
      "           0       0.80      0.59      0.68      7435\n",
      "           1       0.32      0.57      0.41      2565\n",
      "\n",
      "    accuracy                           0.58     10000\n",
      "   macro avg       0.56      0.58      0.55     10000\n",
      "weighted avg       0.68      0.58      0.61     10000\n",
      "\n",
      "\n",
      "\n",
      "--- Hidden Layers: 40 ---\n",
      "\n",
      "Accuracy: 0.5709\n",
      "Precision: 0.31575576430401364\n",
      "Recall: 0.5766081871345029\n",
      "F1 Score: 0.40805628362532764\n",
      "\n",
      "Confusion Matrix:\n",
      "[[4230 3205]\n",
      " [1086 1479]]\n",
      "\n",
      "Classification Report:\n",
      "              precision    recall  f1-score   support\n",
      "\n",
      "           0       0.80      0.57      0.66      7435\n",
      "           1       0.32      0.58      0.41      2565\n",
      "\n",
      "    accuracy                           0.57     10000\n",
      "   macro avg       0.56      0.57      0.54     10000\n",
      "weighted avg       0.67      0.57      0.60     10000\n",
      "\n",
      "\n",
      "\n",
      "--- Hidden Layers: 60 ---\n",
      "\n",
      "Accuracy: 0.6119\n",
      "Precision: 0.3246268656716418\n",
      "Recall: 0.47485380116959064\n",
      "F1 Score: 0.3856260883330695\n",
      "\n",
      "Confusion Matrix:\n",
      "[[4901 2534]\n",
      " [1347 1218]]\n",
      "\n",
      "Classification Report:\n",
      "              precision    recall  f1-score   support\n",
      "\n",
      "           0       0.78      0.66      0.72      7435\n",
      "           1       0.32      0.47      0.39      2565\n",
      "\n",
      "    accuracy                           0.61     10000\n",
      "   macro avg       0.55      0.57      0.55     10000\n",
      "weighted avg       0.67      0.61      0.63     10000\n",
      "\n"
     ]
    }
   ],
   "source": [
    "for i in range(len(trained_mlp_list)):\n",
    "    \n",
    "    y_pred = trained_mlp_list[i].predict(X_val)\n",
    "    \n",
    "    print(f\"\\n\\n--- Hidden Layers: {hidden_layers[i]} ---\\n\")\n",
    "    \n",
    "    print(\"Accuracy:\", accuracy_score(y_val, y_pred))\n",
    "    print(\"Precision:\", precision_score(y_val, y_pred, average='binary'))\n",
    "    print(\"F1 Score:\", f1_score(y_val, y_pred, average='binary'))\n",
    "\n",
    "    print(\"\\nConfusion Matrix:\")\n",
    "    print(confusion_matrix(y_val, y_pred))\n",
    "\n",
    "    print(\"\\nClassification Report:\")\n",
    "    print(classification_report(y_val, y_pred))\n",
    "    "
   ]
  }
 ],
 "metadata": {
  "kernelspec": {
   "display_name": "risk",
   "language": "python",
   "name": "python3"
  },
  "language_info": {
   "codemirror_mode": {
    "name": "ipython",
    "version": 3
   },
   "file_extension": ".py",
   "mimetype": "text/x-python",
   "name": "python",
   "nbconvert_exporter": "python",
   "pygments_lexer": "ipython3",
   "version": "3.10.17"
  }
 },
 "nbformat": 4,
 "nbformat_minor": 2
}
