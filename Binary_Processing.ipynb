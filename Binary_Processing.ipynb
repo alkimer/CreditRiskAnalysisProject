{
 "cells": [
  {
   "cell_type": "markdown",
   "metadata": {},
   "source": [
    "# Binary Categorical Variables Processing"
   ]
  },
  {
   "cell_type": "code",
   "execution_count": 2,
   "metadata": {},
   "outputs": [
    {
     "name": "stdout",
     "output_type": "stream",
     "text": [
      "The following are the binary categrorical variables\n",
      "in the dataset (first their indexes):\n",
      "\n",
      "[5, 6, 16, 21, 24, 25, 28, 33, 37]\n"
     ]
    },
    {
     "name": "stderr",
     "output_type": "stream",
     "text": [
      "/home/aac/Anyone/FinalProject/CreditRiskAnalysisProject/processing/process_categorical_binary.py:6: DtypeWarning: Columns (0,2,4,5,7,8,9,12,18,19,21,22,23,24,25,26,27,28,29,30,31,32,39,40,41,42,43,44,45,46,47,48,50,51,52) have mixed types. Specify dtype option on import or set low_memory=False.\n",
      "  X_train_full = pd.read_csv('./data/data_splitted/X_train.csv', header=None, encoding='UTF-8')\n"
     ]
    },
    {
     "data": {
      "text/html": [
       "<div>\n",
       "<style scoped>\n",
       "    .dataframe tbody tr th:only-of-type {\n",
       "        vertical-align: middle;\n",
       "    }\n",
       "\n",
       "    .dataframe tbody tr th {\n",
       "        vertical-align: top;\n",
       "    }\n",
       "\n",
       "    .dataframe thead th {\n",
       "        text-align: right;\n",
       "    }\n",
       "</style>\n",
       "<table border=\"1\" class=\"dataframe\">\n",
       "  <thead>\n",
       "    <tr style=\"text-align: right;\">\n",
       "      <th></th>\n",
       "      <th>0</th>\n",
       "    </tr>\n",
       "  </thead>\n",
       "  <tbody>\n",
       "    <tr>\n",
       "      <th>5</th>\n",
       "      <td>POSTAL_ADDRESS_TYPE</td>\n",
       "    </tr>\n",
       "    <tr>\n",
       "      <th>6</th>\n",
       "      <td>SEX</td>\n",
       "    </tr>\n",
       "    <tr>\n",
       "      <th>16</th>\n",
       "      <td>FLAG_RESIDENCIAL_PHONE</td>\n",
       "    </tr>\n",
       "    <tr>\n",
       "      <th>21</th>\n",
       "      <td>FLAG_EMAIL</td>\n",
       "    </tr>\n",
       "    <tr>\n",
       "      <th>24</th>\n",
       "      <td>FLAG_VISA</td>\n",
       "    </tr>\n",
       "    <tr>\n",
       "      <th>25</th>\n",
       "      <td>FLAG_MASTERCARD</td>\n",
       "    </tr>\n",
       "    <tr>\n",
       "      <th>28</th>\n",
       "      <td>FLAG_OTHER_CARDS</td>\n",
       "    </tr>\n",
       "    <tr>\n",
       "      <th>33</th>\n",
       "      <td>COMPANY</td>\n",
       "    </tr>\n",
       "    <tr>\n",
       "      <th>37</th>\n",
       "      <td>FLAG_PROFESSIONAL_PHONE</td>\n",
       "    </tr>\n",
       "  </tbody>\n",
       "</table>\n",
       "</div>"
      ],
      "text/plain": [
       "                          0\n",
       "5       POSTAL_ADDRESS_TYPE\n",
       "6                       SEX\n",
       "16   FLAG_RESIDENCIAL_PHONE\n",
       "21               FLAG_EMAIL\n",
       "24                FLAG_VISA\n",
       "25          FLAG_MASTERCARD\n",
       "28         FLAG_OTHER_CARDS\n",
       "33                  COMPANY\n",
       "37  FLAG_PROFESSIONAL_PHONE"
      ]
     },
     "metadata": {},
     "output_type": "display_data"
    }
   ],
   "source": [
    "from processing.process_categorical_binary import *\n",
    "\n",
    "X_train, X_val, var_names = start()"
   ]
  },
  {
   "cell_type": "code",
   "execution_count": null,
   "metadata": {},
   "outputs": [
    {
     "data": {
      "text/plain": [
       "0        FLAG_OTHER_CARDS\n",
       "1                       0\n",
       "2                       0\n",
       "3                       0\n",
       "4                       0\n",
       "               ...       \n",
       "39996                   0\n",
       "39997                   0\n",
       "39998                   0\n",
       "39999                   0\n",
       "40000                   0\n",
       "Name: 28, Length: 40001, dtype: object"
      ]
     },
     "execution_count": 6,
     "metadata": {},
     "output_type": "execute_result"
    }
   ],
   "source": [
    "# Verifica si hay nulos o cadenas vacías en la columna 28\n",
    "nulos_o_vacios = X_train[28].isnull() | (X_train[28] == '')\n",
    "hay_nulos_o_vacios = nulos_o_vacios.any()\n",
    "\n",
    "print(\"¿Hay valores nulos o vacíos en la columna 28?\", hay_nulos_o_vacios)\n",
    "\n",
    "# Si quieres saber cuántos hay:\n",
    "conteo = nulos_o_vacios.sum()\n",
    "print(\"Cantidad de valores nulos o vacíos:\", conteo)"
   ]
  },
  {
   "cell_type": "code",
   "execution_count": 3,
   "metadata": {},
   "outputs": [
    {
     "name": "stdout",
     "output_type": "stream",
     "text": [
      "The following are the binary categrorical variables\n",
      "in the dataset (first their indexes):\n",
      "\n",
      "[5, 6, 16, 21, 24, 25, 28, 33, 37]\n"
     ]
    },
    {
     "name": "stderr",
     "output_type": "stream",
     "text": [
      "/tmp/ipykernel_21200/597027798.py:5: DtypeWarning: Columns (0,2,4,5,7,8,9,12,18,19,21,22,23,24,25,26,27,28,29,30,31,32,39,40,41,42,43,44,45,46,47,48,50,51,52) have mixed types. Specify dtype option on import or set low_memory=False.\n",
      "  X_train_full = pd.read_csv('./data/data_splitted/X_train.csv', header=None, encoding='UTF-8')\n"
     ]
    },
    {
     "data": {
      "text/html": [
       "<div>\n",
       "<style scoped>\n",
       "    .dataframe tbody tr th:only-of-type {\n",
       "        vertical-align: middle;\n",
       "    }\n",
       "\n",
       "    .dataframe tbody tr th {\n",
       "        vertical-align: top;\n",
       "    }\n",
       "\n",
       "    .dataframe thead th {\n",
       "        text-align: right;\n",
       "    }\n",
       "</style>\n",
       "<table border=\"1\" class=\"dataframe\">\n",
       "  <thead>\n",
       "    <tr style=\"text-align: right;\">\n",
       "      <th></th>\n",
       "      <th>0</th>\n",
       "    </tr>\n",
       "  </thead>\n",
       "  <tbody>\n",
       "    <tr>\n",
       "      <th>5</th>\n",
       "      <td>POSTAL_ADDRESS_TYPE</td>\n",
       "    </tr>\n",
       "    <tr>\n",
       "      <th>6</th>\n",
       "      <td>SEX</td>\n",
       "    </tr>\n",
       "    <tr>\n",
       "      <th>16</th>\n",
       "      <td>FLAG_RESIDENCIAL_PHONE</td>\n",
       "    </tr>\n",
       "    <tr>\n",
       "      <th>21</th>\n",
       "      <td>FLAG_EMAIL</td>\n",
       "    </tr>\n",
       "    <tr>\n",
       "      <th>24</th>\n",
       "      <td>FLAG_VISA</td>\n",
       "    </tr>\n",
       "    <tr>\n",
       "      <th>25</th>\n",
       "      <td>FLAG_MASTERCARD</td>\n",
       "    </tr>\n",
       "    <tr>\n",
       "      <th>28</th>\n",
       "      <td>FLAG_OTHER_CARDS</td>\n",
       "    </tr>\n",
       "    <tr>\n",
       "      <th>33</th>\n",
       "      <td>COMPANY</td>\n",
       "    </tr>\n",
       "    <tr>\n",
       "      <th>37</th>\n",
       "      <td>FLAG_PROFESSIONAL_PHONE</td>\n",
       "    </tr>\n",
       "  </tbody>\n",
       "</table>\n",
       "</div>"
      ],
      "text/plain": [
       "                          0\n",
       "5       POSTAL_ADDRESS_TYPE\n",
       "6                       SEX\n",
       "16   FLAG_RESIDENCIAL_PHONE\n",
       "21               FLAG_EMAIL\n",
       "24                FLAG_VISA\n",
       "25          FLAG_MASTERCARD\n",
       "28         FLAG_OTHER_CARDS\n",
       "33                  COMPANY\n",
       "37  FLAG_PROFESSIONAL_PHONE"
      ]
     },
     "metadata": {},
     "output_type": "display_data"
    }
   ],
   "source": [
    "import pandas as pd\n",
    "import matplotlib.pyplot as plt\n",
    "import numpy as np\n",
    "\n",
    "X_train_full = pd.read_csv('./data/data_splitted/X_train.csv', header=None, encoding='UTF-8')\n",
    "X_val_full   = pd.read_csv('./data/data_splitted/X_val.csv',   header=None, encoding='UTF-8')\n",
    "var_names    = pd.read_csv('./external/var_names.txt', header=None, delimiter='\\t', encoding='latin1')\n",
    "\n",
    "blurry = [5,21,24,25,28]\n",
    "binary_index = [6,16,33,37]\n",
    "binary_index.extend(blurry)\n",
    "binary_index.sort()\n",
    "\n",
    "print(\"The following are the binary categrorical variables\\nin the dataset (first their indexes):\\n\")\n",
    "print(binary_index)\n",
    "display(var_names.iloc[binary_index,:])\n",
    "\n",
    "# Create binary subdatasets\n",
    "X_train = X_train_full.iloc[:,binary_index]\n",
    "X_val = X_val_full.iloc[:,binary_index]"
   ]
  }
 ],
 "metadata": {
  "kernelspec": {
   "display_name": "risk",
   "language": "python",
   "name": "python3"
  },
  "language_info": {
   "codemirror_mode": {
    "name": "ipython",
    "version": 3
   },
   "file_extension": ".py",
   "mimetype": "text/x-python",
   "name": "python",
   "nbconvert_exporter": "python",
   "pygments_lexer": "ipython3",
   "version": "3.10.17"
  }
 },
 "nbformat": 4,
 "nbformat_minor": 2
}
