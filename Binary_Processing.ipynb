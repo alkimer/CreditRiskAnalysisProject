{
 "cells": [
  {
   "cell_type": "markdown",
   "metadata": {},
   "source": [
    "# Binary Categorical Variables Processing"
   ]
  },
  {
   "cell_type": "code",
   "execution_count": 1,
   "metadata": {},
   "outputs": [
    {
     "name": "stdout",
     "output_type": "stream",
     "text": [
      "The following are the binary categrorical variables\n",
      "in the dataset (first their original indexes):\n",
      "\n",
      "[3, 6, 16, 21, 24, 25, 28, 33, 37]\n"
     ]
    },
    {
     "data": {
      "text/plain": [
       "['APPLICATION_SUBMISSION_TYPE',\n",
       " 'SEX',\n",
       " 'FLAG_RESIDENCIAL_PHONE',\n",
       " 'FLAG_EMAIL',\n",
       " 'FLAG_VISA',\n",
       " 'FLAG_MASTERCARD',\n",
       " 'FLAG_OTHER_CARDS',\n",
       " 'COMPANY',\n",
       " 'FLAG_PROFESSIONAL_PHONE']"
      ]
     },
     "metadata": {},
     "output_type": "display_data"
    },
    {
     "name": "stdout",
     "output_type": "stream",
     "text": [
      "////////////////////\n",
      "\n",
      "\n",
      "Variable: APPLICATION_SUBMISSION_TYPE \n",
      "\n",
      "Train OK. Continue!\n",
      "Val OK. Continue!\n",
      "\n",
      "\n",
      "Variable: SEX \n",
      "\n",
      "Null or empty values in TRAIN. It's time to clean\n",
      "Null or empty values in VAL. It's time to clean\n",
      "Original train length: 40000\n",
      "Cleaned train length: 40000\n",
      "Original val length: 10000\n",
      "Cleaned val length: 10000\n",
      "\n",
      "\n",
      "Variable: FLAG_RESIDENCIAL_PHONE \n",
      "\n",
      "Train OK. Continue!\n",
      "Val OK. Continue!\n",
      "\n",
      "\n",
      "Variable: FLAG_EMAIL \n",
      "\n",
      "Train OK. Continue!\n",
      "Val OK. Continue!\n",
      "\n",
      "\n",
      "Variable: FLAG_VISA \n",
      "\n",
      "Train OK. Continue!\n",
      "Val OK. Continue!\n",
      "\n",
      "\n",
      "Variable: FLAG_MASTRECARD \n",
      "\n",
      "Train OK. Continue!\n",
      "Val OK. Continue!\n",
      "\n",
      "\n",
      "Variable: FLAG_PROFESSIONAL_PHONE \n",
      "\n",
      "Train OK. Continue!\n",
      "Val OK. Continue!\n",
      "The following are the binary categrorical variables\n",
      "in the dataset (first their original indexes):\n",
      "\n",
      "[3, 6, 16, 21, 24, 25, 28, 33, 37]\n"
     ]
    },
    {
     "data": {
      "text/plain": [
       "['APPLICATION_SUBMISSION_TYPE',\n",
       " 'SEX',\n",
       " 'FLAG_RESIDENCIAL_PHONE',\n",
       " 'FLAG_EMAIL',\n",
       " 'FLAG_VISA',\n",
       " 'FLAG_MASTERCARD',\n",
       " 'FLAG_OTHER_CARDS',\n",
       " 'COMPANY',\n",
       " 'FLAG_PROFESSIONAL_PHONE']"
      ]
     },
     "metadata": {},
     "output_type": "display_data"
    },
    {
     "name": "stdout",
     "output_type": "stream",
     "text": [
      "////////////////////\n",
      "\n",
      "\n",
      "Variable: APPLICATION_SUBMISSION_TYPE \n",
      "\n",
      "Train OK. Continue!\n",
      "Val OK. Continue!\n",
      "\n",
      "\n",
      "Variable: SEX \n",
      "\n",
      "Null or empty values in TRAIN. It's time to clean\n",
      "Null or empty values in VAL. It's time to clean\n",
      "Original train length: 40000\n",
      "Cleaned train length: 40000\n",
      "Original val length: 10000\n",
      "Cleaned val length: 10000\n",
      "\n",
      "\n",
      "Variable: FLAG_RESIDENCIAL_PHONE \n",
      "\n",
      "Train OK. Continue!\n",
      "Val OK. Continue!\n",
      "\n",
      "\n",
      "Variable: FLAG_EMAIL \n",
      "\n",
      "Train OK. Continue!\n",
      "Val OK. Continue!\n",
      "\n",
      "\n",
      "Variable: FLAG_VISA \n",
      "\n",
      "Train OK. Continue!\n",
      "Val OK. Continue!\n",
      "\n",
      "\n",
      "Variable: FLAG_MASTRECARD \n",
      "\n",
      "Train OK. Continue!\n",
      "Val OK. Continue!\n",
      "\n",
      "\n",
      "Variable: FLAG_PROFESSIONAL_PHONE \n",
      "\n",
      "Train OK. Continue!\n",
      "Val OK. Continue!\n"
     ]
    }
   ],
   "source": [
    "from processing.process_categorical_binary import clean_all\n",
    "clean_binary_X_train, clean_binary__X_val = clean_all()"
   ]
  }
 ],
 "metadata": {
  "kernelspec": {
   "display_name": "risk",
   "language": "python",
   "name": "python3"
  },
  "language_info": {
   "codemirror_mode": {
    "name": "ipython",
    "version": 3
   },
   "file_extension": ".py",
   "mimetype": "text/x-python",
   "name": "python",
   "nbconvert_exporter": "python",
   "pygments_lexer": "ipython3",
   "version": "3.10.17"
  }
 },
 "nbformat": 4,
 "nbformat_minor": 2
}
