{
 "cells": [
  {
   "cell_type": "markdown",
   "metadata": {},
   "source": [
    "# Binary Categorical Variables Processing"
   ]
  },
  {
   "cell_type": "code",
   "execution_count": 4,
   "metadata": {},
   "outputs": [
    {
     "name": "stdout",
     "output_type": "stream",
     "text": [
      "The following are the binary categrorical variables \n",
      "in the dataset (first their indexes):\n",
      "\n",
      "[5, 6, 16, 21, 24, 25, 26, 27, 28, 33, 37]\n"
     ]
    },
    {
     "name": "stderr",
     "output_type": "stream",
     "text": [
      "/home/aac/Anyone/FinalProject/CreditRiskAnalysisProject/processing/process_categorical_binary.py:6: DtypeWarning: Columns (0,2,4,5,7,8,9,12,18,19,21,22,23,24,25,26,27,28,29,30,31,32,39,40,41,42,43,44,45,46,47,48,50,51,52) have mixed types. Specify dtype option on import or set low_memory=False.\n",
      "  X_train_full = pd.read_csv('./data/data_splitted/X_train.csv', header=None, encoding='UTF-8')\n"
     ]
    }
   ],
   "source": [
    "from processing.process_categorical_binary import *\n",
    "\n",
    "start()"
   ]
  },
  {
   "cell_type": "code",
   "execution_count": null,
   "metadata": {},
   "outputs": [
    {
     "name": "stdout",
     "output_type": "stream",
     "text": [
      "The following are the binary categrorical variables \n",
      "in the dataset (first their indexes):\n",
      "\n",
      "[5, 6, 16, 20, 21, 24, 25, 26, 27, 28, 33, 37]\n",
      "                    5    6                       16                 20  \\\n",
      "0  POSTAL_ADDRESS_TYPE  SEX  FLAG_RESIDENCIAL_PHONE  FLAG_MOBILE_PHONE   \n",
      "1                    1    F                       N                  N   \n",
      "2                    1    M                       Y                  N   \n",
      "3                    1    M                       Y                  N   \n",
      "4                    1    M                       Y                  N   \n",
      "\n",
      "           21         24               25           26                     27  \\\n",
      "0  FLAG_EMAIL  FLAG_VISA  FLAG_MASTERCARD  FLAG_DINERS  FLAG_AMERICAN_EXPRESS   \n",
      "1           1          0                0            0                      0   \n",
      "2           1          0                0            0                      0   \n",
      "3           1          0                0            0                      0   \n",
      "4           0          1                0            0                      0   \n",
      "\n",
      "                 28       33                       37  \n",
      "0  FLAG_OTHER_CARDS  COMPANY  FLAG_PROFESSIONAL_PHONE  \n",
      "1                 0        N                        N  \n",
      "2                 0        Y                        N  \n",
      "3                 0        N                        Y  \n",
      "4                 0        Y                        Y  \n",
      "                    5    6                       16                 20  \\\n",
      "0  POSTAL_ADDRESS_TYPE  SEX  FLAG_RESIDENCIAL_PHONE  FLAG_MOBILE_PHONE   \n",
      "1                    1    F                       Y                  N   \n",
      "2                    1    M                       Y                  N   \n",
      "3                    1    M                       Y                  N   \n",
      "4                    1    M                       Y                  N   \n",
      "\n",
      "           21         24               25           26                     27  \\\n",
      "0  FLAG_EMAIL  FLAG_VISA  FLAG_MASTERCARD  FLAG_DINERS  FLAG_AMERICAN_EXPRESS   \n",
      "1           1          0                0            0                      0   \n",
      "2           1          0                0            0                      0   \n",
      "3           1          0                0            0                      0   \n",
      "4           1          0                0            0                      0   \n",
      "\n",
      "                 28       33                       37  \n",
      "0  FLAG_OTHER_CARDS  COMPANY  FLAG_PROFESSIONAL_PHONE  \n",
      "1                 0        N                        N  \n",
      "2                 0        N                        N  \n",
      "3                 0        N                        N  \n",
      "4                 0        Y                        N  \n"
     ]
    },
    {
     "name": "stderr",
     "output_type": "stream",
     "text": [
      "/tmp/ipykernel_33698/4060026959.py:6: DtypeWarning: Columns (0,2,4,5,7,8,9,12,18,19,21,22,23,24,25,26,27,28,29,30,31,32,39,40,41,42,43,44,45,46,47,48,50,51,52) have mixed types. Specify dtype option on import or set low_memory=False.\n",
      "  X_train_full = pd.read_csv('./data/data_splitted/X_train.csv', header=None, encoding='UTF-8')\n"
     ]
    }
   ],
   "source": [
    "import pandas as pd\n",
    "import matplotlib.pyplot as plt\n",
    "import numpy as np\n",
    "\n",
    "\n",
    "X_train_full = pd.read_csv('./data/data_splitted/X_train.csv', header=None, encoding='UTF-8')\n",
    "X_val_full   = pd.read_csv('./data/data_splitted/X_val.csv',   header=None, encoding='UTF-8')\n",
    "\n",
    "var_names = pd.read_csv('./external/var_names.txt', header=None, encoding='UTF-8') # delimiter=','\n",
    "\n",
    "blurry = [5,21,24,25,26,27,28]\n",
    "binary_index = [6,16,33,37] # + Others, review twice or more!!!!    \n",
    "binary_index.extend(blurry)\n",
    "binary_index.sort()\n",
    "\n",
    "print(\"The following are the binary categrorical variables\\nin the dataset (first their indexes):\\n\")\n",
    "print(binary_index)\n",
    "display(var_names[binary_index])\n",
    "\n",
    "print(\"The following are the binary categrorical variables \\nin the dataset (first their indexes):\\n\")\n",
    "print(binary_index)\n",
    "# display(binary_index)\n",
    "\n",
    "# Create binary subdatasets\n",
    "X_train = X_train_full.iloc[:,binary_index]\n",
    "X_val = X_val_full.iloc[:,binary_index]\n"
   ]
  }
 ],
 "metadata": {
  "kernelspec": {
   "display_name": "risk",
   "language": "python",
   "name": "python3"
  },
  "language_info": {
   "codemirror_mode": {
    "name": "ipython",
    "version": 3
   },
   "file_extension": ".py",
   "mimetype": "text/x-python",
   "name": "python",
   "nbconvert_exporter": "python",
   "pygments_lexer": "ipython3",
   "version": "3.10.17"
  }
 },
 "nbformat": 4,
 "nbformat_minor": 2
}
