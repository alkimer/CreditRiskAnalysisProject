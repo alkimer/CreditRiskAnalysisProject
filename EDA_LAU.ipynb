{
 "cells": [
  {
   "cell_type": "code",
   "execution_count": 2,
   "metadata": {
    "id": "c50BBJA8zsnu"
   },
   "outputs": [
    {
     "name": "stderr",
     "output_type": "stream",
     "text": [
      "c:\\Users\\Administrator\\Desktop\\CreditRiskAnalysisProject\\.venv\\lib\\site-packages\\tqdm\\auto.py:21: TqdmWarning: IProgress not found. Please update jupyter and ipywidgets. See https://ipywidgets.readthedocs.io/en/stable/user_install.html\n",
      "  from .autonotebook import tqdm as notebook_tqdm\n"
     ]
    },
    {
     "data": {
      "text/html": [
       "\n",
       "            <div>\n",
       "                <ins><a href=\"https://ydata.ai/register\">Upgrade to ydata-sdk</a></ins>\n",
       "                <p>\n",
       "                    Improve your data and profiling with ydata-sdk, featuring data quality scoring, redundancy detection, outlier identification, text validation, and synthetic data generation.\n",
       "                </p>\n",
       "            </div>\n",
       "            "
      ],
      "text/plain": [
       "<IPython.core.display.HTML object>"
      ]
     },
     "metadata": {},
     "output_type": "display_data"
    },
    {
     "name": "stderr",
     "output_type": "stream",
     "text": [
      "\u001b[32m2025-06-05 00:35:31.918\u001b[0m | \u001b[1mINFO    \u001b[0m | \u001b[36msrc.config\u001b[0m:\u001b[36m<module>\u001b[0m:\u001b[36m11\u001b[0m - \u001b[1mPROJ_ROOT path is: C:\\Users\\Administrator\\Desktop\\CreditRiskAnalysisProject\u001b[0m\n"
     ]
    }
   ],
   "source": [
    "import pandas as pd\n",
    "import matplotlib.pyplot as plt\n",
    "import os\n",
    "import sys\n",
    "import matplotlib.image as mpimg\n",
    "#from src.utils import identify_target_variable,identify_variable_types,identify_outliers,analyze_target_balance\n",
    "from ydata_profiling import ProfileReport\n",
    "import glob\n",
    "project_root = os.path.abspath(os.path.join(os.getcwd(), '..'))\n",
    "sys.path.append(project_root)\n",
    "\n",
    "from src.data.make_dataset import rename_columns_in_txt_files\n",
    "from src.config import RAW_DATA_DIR, EXTERNAL_DATA_DIR, INTERIM_DATA_DIR\n",
    "\n"
   ]
  },
  {
   "cell_type": "code",
   "execution_count": 9,
   "metadata": {},
   "outputs": [
    {
     "name": "stdout",
     "output_type": "stream",
     "text": [
      "3 files processed and saved to 'C:\\Users\\Administrator\\Desktop\\CreditRiskAnalysisProject\\data\\interim'\n"
     ]
    }
   ],
   "source": [
    "# Converting the raw data files by renaming their columns based on a mapping from an Excel file and saving the results in\n",
    "\n",
    "rename_columns_in_txt_files(\n",
    "    txt_folder=str(RAW_DATA_DIR),\n",
    "    xls_file=str(EXTERNAL_DATA_DIR / 'PAKDD2010_VariablesList.xls'),\n",
    "    output_folder=str(INTERIM_DATA_DIR)\n",
    ")"
   ]
  },
  {
   "cell_type": "code",
   "execution_count": 12,
   "metadata": {},
   "outputs": [
    {
     "name": "stdout",
     "output_type": "stream",
     "text": [
      "Estás en el directorio: c:\\Users\\Administrator\\Desktop\\CreditRiskAnalysisProject\\notebooks\n"
     ]
    }
   ],
   "source": [
    "import os\n",
    "print(\"Estás en el directorio:\", os.getcwd())"
   ]
  },
  {
   "cell_type": "code",
   "execution_count": 13,
   "metadata": {},
   "outputs": [
    {
     "name": "stdout",
     "output_type": "stream",
     "text": [
      "Archivos encontrados: ['../data/interim\\\\PAKDD2010_Leaderboard_Data_with_columns.txt', '../data/interim\\\\PAKDD2010_Modeling_Data_with_columns.txt', '../data/interim\\\\PAKDD2010_Prediction_Data_with_columns.txt']\n",
      "\n",
      "--- EDA para ../data/interim\\PAKDD2010_Leaderboard_Data_with_columns.txt ---\n",
      "\n",
      "Primeras 5 filas del dataset:\n",
      "   ID_CLIENT CLERK_TYPE  PAYMENT_DAY APPLICATION_SUBMISSION_TYPE  \\\n",
      "0      50001          C            1                         Web   \n",
      "1      50002          C           20                         Web   \n",
      "2      50003          C           25                         Web   \n",
      "3      50004          C           10                         Web   \n",
      "4      50005          C           25                         Web   \n",
      "\n",
      "   QUANT_ADDITIONAL_CARDS  POSTAL_ADDRESS_TYPE SEX  MARITAL_STATUS  \\\n",
      "0                       0                    1   F               1   \n",
      "1                       0                    1   F               1   \n",
      "2                       0                    1   M               1   \n",
      "3                       0                    1   F               7   \n",
      "4                       0                    1   F               1   \n",
      "\n",
      "   QUANT_DEPENDANTS  EDUCATION_LEVEL  ... EDUCATION_LEVEL.1  \\\n",
      "0                 0                4  ...               NaN   \n",
      "1                 0                4  ...               NaN   \n",
      "2                 0                2  ...               NaN   \n",
      "3                 0                3  ...               NaN   \n",
      "4                 0                4  ...               NaN   \n",
      "\n",
      "  FLAG_HOME_ADDRESS_DOCUMENT  FLAG_RG FLAG_CPF FLAG_INCOME_PROOF PRODUCT  \\\n",
      "0                          0        0        0                 0       1   \n",
      "1                          0        0        0                 0       1   \n",
      "2                          0        0        0                 0       1   \n",
      "3                          0        0        0                 0       1   \n",
      "4                          0        0        0                 0       2   \n",
      "\n",
      "  FLAG_ACSP_RECORD AGE  RESIDENCIAL_ZIP_3  PROFESSIONAL_ZIP_3  \n",
      "0                Y  48                618                 618  \n",
      "1                N  29                358                 358  \n",
      "2                N  53                670                 670  \n",
      "3                N  38                591                 591  \n",
      "4                N  19                844                 844  \n",
      "\n",
      "[5 rows x 53 columns]\n",
      "\n",
      "Columnas categóricas: ['CLERK_TYPE', 'APPLICATION_SUBMISSION_TYPE', 'SEX', 'STATE_OF_BIRTH', 'CITY_OF_BIRTH', 'RESIDENCIAL_STATE', 'RESIDENCIAL_CITY', 'RESIDENCIAL_BOROUGH', 'FLAG_RESIDENCIAL_PHONE', 'RESIDENCIAL_PHONE_AREA_CODE', 'FLAG_MOBILE_PHONE', 'COMPANY', 'PROFESSIONAL_STATE', 'PROFESSIONAL_CITY', 'PROFESSIONAL_BOROUGH', 'FLAG_PROFESSIONAL_PHONE', 'PROFESSIONAL_PHONE_AREA_CODE', 'FLAG_ACSP_RECORD', 'RESIDENCIAL_ZIP_3', 'PROFESSIONAL_ZIP_3']\n",
      "Columnas numéricas: ['ID_CLIENT', 'PAYMENT_DAY', 'QUANT_ADDITIONAL_CARDS', 'POSTAL_ADDRESS_TYPE', 'MARITAL_STATUS', 'QUANT_DEPENDANTS', 'EDUCATION_LEVEL', 'NACIONALITY', 'RESIDENCE_TYPE', 'MONTHS_IN_RESIDENCE', 'FLAG_EMAIL', 'PERSONAL_MONTHLY_INCOME', 'OTHER_INCOMES', 'FLAG_VISA', 'FLAG_MASTERCARD', 'FLAG_DINERS', 'FLAG_AMERICAN_EXPRESS', 'FLAG_OTHER_CARDS', 'QUANT_BANKING_ACCOUNTS', 'QUANT_SPECIAL_BANKING_ACCOUNTS', 'PERSONAL_ASSETS_VALUE', 'QUANT_CARS', 'MONTHS_IN_THE_JOB', 'PROFESSION_CODE', 'OCCUPATION_TYPE', 'MATE_PROFESSION_CODE', 'EDUCATION_LEVEL.1', 'FLAG_HOME_ADDRESS_DOCUMENT', 'FLAG_RG', 'FLAG_CPF', 'FLAG_INCOME_PROOF', 'PRODUCT', 'AGE']\n",
      "\n",
      "Columnas que contienen outliers: ['QUANT_ADDITIONAL_CARDS', 'POSTAL_ADDRESS_TYPE', 'MARITAL_STATUS', 'QUANT_DEPENDANTS', 'NACIONALITY', 'RESIDENCE_TYPE', 'MONTHS_IN_RESIDENCE', 'FLAG_EMAIL', 'PERSONAL_MONTHLY_INCOME', 'OTHER_INCOMES', 'FLAG_VISA', 'FLAG_MASTERCARD', 'FLAG_DINERS', 'FLAG_AMERICAN_EXPRESS', 'FLAG_OTHER_CARDS', 'QUANT_BANKING_ACCOUNTS', 'QUANT_SPECIAL_BANKING_ACCOUNTS', 'PERSONAL_ASSETS_VALUE', 'QUANT_CARS', 'MONTHS_IN_THE_JOB', 'PROFESSION_CODE', 'MATE_PROFESSION_CODE', 'FLAG_HOME_ADDRESS_DOCUMENT', 'FLAG_RG', 'FLAG_CPF', 'FLAG_INCOME_PROOF', 'PRODUCT', 'AGE']\n",
      "\n",
      "Columnas con 'target' en el nombre: Ninguna\n",
      "\n",
      "No se encontró ninguna columna target para analizar balanceo.\n"
     ]
    },
    {
     "name": "stderr",
     "output_type": "stream",
     "text": [
      "C:\\Users\\Administrator\\AppData\\Local\\Temp\\ipykernel_2960\\584321934.py:56: DtypeWarning: Columns (51,52) have mixed types. Specify dtype option on import or set low_memory=False.\n",
      "  df_txt = pd.read_csv(file, delimiter='\\t')  # Cambia delimitador si es necesario\n"
     ]
    },
    {
     "name": "stdout",
     "output_type": "stream",
     "text": [
      "\n",
      "--- EDA para ../data/interim\\PAKDD2010_Modeling_Data_with_columns.txt ---\n",
      "\n",
      "Primeras 5 filas del dataset:\n",
      "   ID_CLIENT CLERK_TYPE  PAYMENT_DAY APPLICATION_SUBMISSION_TYPE  \\\n",
      "0          1          C            5                         Web   \n",
      "1          2          C           15                       Carga   \n",
      "2          3          C            5                         Web   \n",
      "3          4          C           20                         Web   \n",
      "4          5          C           10                         Web   \n",
      "\n",
      "   QUANT_ADDITIONAL_CARDS  POSTAL_ADDRESS_TYPE SEX  MARITAL_STATUS  \\\n",
      "0                       0                    1   F               6   \n",
      "1                       0                    1   F               2   \n",
      "2                       0                    1   F               2   \n",
      "3                       0                    1   F               2   \n",
      "4                       0                    1   M               2   \n",
      "\n",
      "   QUANT_DEPENDANTS  EDUCATION_LEVEL  ... FLAG_HOME_ADDRESS_DOCUMENT FLAG_RG  \\\n",
      "0                 1                0  ...                          0       0   \n",
      "1                 0                0  ...                          0       0   \n",
      "2                 0                0  ...                          0       0   \n",
      "3                 0                0  ...                          0       0   \n",
      "4                 0                0  ...                          0       0   \n",
      "\n",
      "   FLAG_CPF FLAG_INCOME_PROOF PRODUCT FLAG_ACSP_RECORD AGE RESIDENCIAL_ZIP_3  \\\n",
      "0         0                 0       1                N  32               595   \n",
      "1         0                 0       1                N  34               230   \n",
      "2         0                 0       1                N  27               591   \n",
      "3         0                 0       1                N  61               545   \n",
      "4         0                 0       1                N  48               235   \n",
      "\n",
      "   PROFESSIONAL_ZIP_3  TARGET_LABEL_BAD=1  \n",
      "0                 595                   1  \n",
      "1                 230                   1  \n",
      "2                 591                   0  \n",
      "3                 545                   0  \n",
      "4                 235                   1  \n",
      "\n",
      "[5 rows x 54 columns]\n",
      "\n",
      "Columnas categóricas: ['CLERK_TYPE', 'APPLICATION_SUBMISSION_TYPE', 'SEX', 'STATE_OF_BIRTH', 'CITY_OF_BIRTH', 'RESIDENCIAL_STATE', 'RESIDENCIAL_CITY', 'RESIDENCIAL_BOROUGH', 'FLAG_RESIDENCIAL_PHONE', 'RESIDENCIAL_PHONE_AREA_CODE', 'FLAG_MOBILE_PHONE', 'COMPANY', 'PROFESSIONAL_STATE', 'PROFESSIONAL_CITY', 'PROFESSIONAL_BOROUGH', 'FLAG_PROFESSIONAL_PHONE', 'PROFESSIONAL_PHONE_AREA_CODE', 'FLAG_ACSP_RECORD', 'RESIDENCIAL_ZIP_3', 'PROFESSIONAL_ZIP_3']\n",
      "Columnas numéricas: ['ID_CLIENT', 'PAYMENT_DAY', 'QUANT_ADDITIONAL_CARDS', 'POSTAL_ADDRESS_TYPE', 'MARITAL_STATUS', 'QUANT_DEPENDANTS', 'EDUCATION_LEVEL', 'NACIONALITY', 'RESIDENCE_TYPE', 'MONTHS_IN_RESIDENCE', 'FLAG_EMAIL', 'PERSONAL_MONTHLY_INCOME', 'OTHER_INCOMES', 'FLAG_VISA', 'FLAG_MASTERCARD', 'FLAG_DINERS', 'FLAG_AMERICAN_EXPRESS', 'FLAG_OTHER_CARDS', 'QUANT_BANKING_ACCOUNTS', 'QUANT_SPECIAL_BANKING_ACCOUNTS', 'PERSONAL_ASSETS_VALUE', 'QUANT_CARS', 'MONTHS_IN_THE_JOB', 'PROFESSION_CODE', 'OCCUPATION_TYPE', 'MATE_PROFESSION_CODE', 'EDUCATION_LEVEL.1', 'FLAG_HOME_ADDRESS_DOCUMENT', 'FLAG_RG', 'FLAG_CPF', 'FLAG_INCOME_PROOF', 'PRODUCT', 'AGE', 'TARGET_LABEL_BAD=1']\n",
      "\n",
      "Columnas que contienen outliers: ['PAYMENT_DAY', 'POSTAL_ADDRESS_TYPE', 'MARITAL_STATUS', 'QUANT_DEPENDANTS', 'NACIONALITY', 'RESIDENCE_TYPE', 'MONTHS_IN_RESIDENCE', 'FLAG_EMAIL', 'PERSONAL_MONTHLY_INCOME', 'OTHER_INCOMES', 'FLAG_VISA', 'FLAG_MASTERCARD', 'FLAG_DINERS', 'FLAG_AMERICAN_EXPRESS', 'FLAG_OTHER_CARDS', 'PERSONAL_ASSETS_VALUE', 'MONTHS_IN_THE_JOB', 'PROFESSION_CODE', 'EDUCATION_LEVEL.1', 'PRODUCT', 'AGE']\n",
      "\n",
      "Columnas con 'target' en el nombre: ['TARGET_LABEL_BAD=1']\n",
      "\n",
      "Análisis de balanceo para 'TARGET_LABEL_BAD=1':\n",
      "                    Conteo  Proporción\n",
      "TARGET_LABEL_BAD=1                    \n",
      "0                    36959     0.73918\n",
      "1                    13041     0.26082\n",
      "\n",
      "--- EDA para ../data/interim\\PAKDD2010_Prediction_Data_with_columns.txt ---\n",
      "\n",
      "Primeras 5 filas del dataset:\n",
      "   ID_CLIENT CLERK_TYPE  PAYMENT_DAY APPLICATION_SUBMISSION_TYPE  \\\n",
      "0      70001          C           10                         Web   \n",
      "1      70002          C           10                         Web   \n",
      "2      70003          C           25                         Web   \n",
      "3      70004          C            5                         Web   \n",
      "4      70005          C           20                         Web   \n",
      "\n",
      "   QUANT_ADDITIONAL_CARDS  POSTAL_ADDRESS_TYPE SEX  MARITAL_STATUS  \\\n",
      "0                     NaN                    1   F               1   \n",
      "1                     NaN                    1   F               1   \n",
      "2                     NaN                    1   F               2   \n",
      "3                     NaN                    1   F               1   \n",
      "4                     NaN                    1   F               1   \n",
      "\n",
      "   QUANT_DEPENDANTS  EDUCATION_LEVEL  ... EDUCATION_LEVEL.1  \\\n",
      "0                 0                5  ...               NaN   \n",
      "1                 0                3  ...               2.0   \n",
      "2                 0                4  ...               NaN   \n",
      "3                 0                3  ...               NaN   \n",
      "4                 0                4  ...               NaN   \n",
      "\n",
      "  FLAG_HOME_ADDRESS_DOCUMENT  FLAG_RG FLAG_CPF FLAG_INCOME_PROOF PRODUCT  \\\n",
      "0                          0        0        0                 0       2   \n",
      "1                          0        0        0                 0       2   \n",
      "2                          0        0        0                 0       1   \n",
      "3                          0        0        0                 0       1   \n",
      "4                          0        0        0                 0       1   \n",
      "\n",
      "  FLAG_ACSP_RECORD AGE  RESIDENCIAL_ZIP_3  PROFESSIONAL_ZIP_3  \n",
      "0                N  29                318                 318  \n",
      "1                N  41                173                 173  \n",
      "2                N  38                716                 716  \n",
      "3                N  45                869                 869  \n",
      "4                N  49                289                 289  \n",
      "\n",
      "[5 rows x 53 columns]\n",
      "\n",
      "Columnas categóricas: ['CLERK_TYPE', 'APPLICATION_SUBMISSION_TYPE', 'SEX', 'STATE_OF_BIRTH', 'CITY_OF_BIRTH', 'RESIDENCIAL_STATE', 'RESIDENCIAL_CITY', 'RESIDENCIAL_BOROUGH', 'FLAG_RESIDENCIAL_PHONE', 'RESIDENCIAL_PHONE_AREA_CODE', 'FLAG_MOBILE_PHONE', 'COMPANY', 'PROFESSIONAL_STATE', 'PROFESSIONAL_CITY', 'PROFESSIONAL_BOROUGH', 'FLAG_PROFESSIONAL_PHONE', 'PROFESSIONAL_PHONE_AREA_CODE', 'FLAG_ACSP_RECORD']\n",
      "Columnas numéricas: ['ID_CLIENT', 'PAYMENT_DAY', 'QUANT_ADDITIONAL_CARDS', 'POSTAL_ADDRESS_TYPE', 'MARITAL_STATUS', 'QUANT_DEPENDANTS', 'EDUCATION_LEVEL', 'NACIONALITY', 'RESIDENCE_TYPE', 'MONTHS_IN_RESIDENCE', 'FLAG_EMAIL', 'PERSONAL_MONTHLY_INCOME', 'OTHER_INCOMES', 'FLAG_VISA', 'FLAG_MASTERCARD', 'FLAG_DINERS', 'FLAG_AMERICAN_EXPRESS', 'FLAG_OTHER_CARDS', 'QUANT_BANKING_ACCOUNTS', 'QUANT_SPECIAL_BANKING_ACCOUNTS', 'PERSONAL_ASSETS_VALUE', 'QUANT_CARS', 'MONTHS_IN_THE_JOB', 'PROFESSION_CODE', 'OCCUPATION_TYPE', 'MATE_PROFESSION_CODE', 'EDUCATION_LEVEL.1', 'FLAG_HOME_ADDRESS_DOCUMENT', 'FLAG_RG', 'FLAG_CPF', 'FLAG_INCOME_PROOF', 'PRODUCT', 'AGE', 'RESIDENCIAL_ZIP_3', 'PROFESSIONAL_ZIP_3']\n",
      "\n",
      "Columnas que contienen outliers: ['QUANT_ADDITIONAL_CARDS', 'POSTAL_ADDRESS_TYPE', 'MARITAL_STATUS', 'QUANT_DEPENDANTS', 'NACIONALITY', 'RESIDENCE_TYPE', 'MONTHS_IN_RESIDENCE', 'FLAG_EMAIL', 'PERSONAL_MONTHLY_INCOME', 'OTHER_INCOMES', 'FLAG_VISA', 'FLAG_MASTERCARD', 'FLAG_DINERS', 'FLAG_AMERICAN_EXPRESS', 'FLAG_OTHER_CARDS', 'QUANT_BANKING_ACCOUNTS', 'QUANT_SPECIAL_BANKING_ACCOUNTS', 'PERSONAL_ASSETS_VALUE', 'QUANT_CARS', 'MONTHS_IN_THE_JOB', 'PROFESSION_CODE', 'MATE_PROFESSION_CODE', 'FLAG_HOME_ADDRESS_DOCUMENT', 'FLAG_RG', 'FLAG_CPF', 'FLAG_INCOME_PROOF', 'PRODUCT', 'AGE']\n",
      "\n",
      "Columnas con 'target' en el nombre: Ninguna\n",
      "\n",
      "No se encontró ninguna columna target para analizar balanceo.\n"
     ]
    }
   ],
   "source": [
    "txt_folder='../data/interim'\n",
    "txt_files = glob.glob(os.path.join(txt_folder, '*.txt'))\n",
    "print(\"Archivos encontrados:\", txt_files)\n",
    "\n",
    "import re\n",
    "\n",
    "# Función para hacer EDA básico\n",
    "def eda(df, nombre):\n",
    "    print(f\"\\n--- EDA para {nombre} ---\\n\")\n",
    "    \n",
    "    # Mostrar primeras filas\n",
    "    print(\"Primeras 5 filas del dataset:\")\n",
    "    print(df.head(5))\n",
    "    \n",
    "    # Identificar columnas categóricas y numéricas\n",
    "    cat_cols = df.select_dtypes(include=['object', 'category']).columns.tolist()\n",
    "    num_cols = df.select_dtypes(include=['number']).columns.tolist()\n",
    "    \n",
    "    print(\"\\nColumnas categóricas:\", cat_cols)\n",
    "    print(\"Columnas numéricas:\", num_cols)\n",
    "    \n",
    "    # Detectar outliers en columnas numéricas usando IQR\n",
    "    outlier_cols = []\n",
    "    for col in num_cols:\n",
    "        Q1 = df[col].quantile(0.25)\n",
    "        Q3 = df[col].quantile(0.75)\n",
    "        IQR = Q3 - Q1\n",
    "        lower_bound = Q1 - 1.5 * IQR\n",
    "        upper_bound = Q3 + 1.5 * IQR\n",
    "        outliers = df[(df[col] < lower_bound) | (df[col] > upper_bound)]\n",
    "        if not outliers.empty:\n",
    "            outlier_cols.append(col)\n",
    "    \n",
    "    print(\"\\nColumnas que contienen outliers:\", outlier_cols if outlier_cols else \"Ninguna\")\n",
    "    \n",
    "    # Buscar columnas que contengan 'target' en el nombre (case insensitive)\n",
    "    #target_cols = [col for col in df.columns if 'target' in col.lower()]\n",
    "    target_cols = [col for col in df.columns if re.search('target', col, re.IGNORECASE)]\n",
    "\n",
    "    print(\"\\nColumnas con 'target' en el nombre:\", target_cols if target_cols else \"Ninguna\")\n",
    "    \n",
    "    # Analizar balanceo si existe columna target\n",
    "    if target_cols:\n",
    "        for target in target_cols:\n",
    "            print(f\"\\nAnálisis de balanceo para '{target}':\")\n",
    "            counts = df[target].value_counts(dropna=False)\n",
    "            proportions = df[target].value_counts(normalize=True, dropna=False)\n",
    "            balance_table = counts.to_frame(name='Conteo').join(proportions.to_frame(name='Proporción'))\n",
    "            print(balance_table)\n",
    "    else:\n",
    "        print(\"\\nNo se encontró ninguna columna target para analizar balanceo.\")\n",
    "\n",
    "# Leer y analizar cada TXT (ajusta el delimiter según corresponda)\n",
    "for file in txt_files:\n",
    "    try:\n",
    "        df_txt = pd.read_csv(file, delimiter='\\t')  # Cambia delimitador si es necesario\n",
    "        eda(df_txt, file)\n",
    "    except Exception as e:\n",
    "        print(f\"No se pudo leer {file}: {e}\")\n"
   ]
  }
 ],
 "metadata": {
  "colab": {
   "authorship_tag": "ABX9TyMSKj1PqFx+8sVuVDRQ9arJ",
   "provenance": []
  },
  "kernelspec": {
   "display_name": ".venv",
   "language": "python",
   "name": "python3"
  },
  "language_info": {
   "codemirror_mode": {
    "name": "ipython",
    "version": 3
   },
   "file_extension": ".py",
   "mimetype": "text/x-python",
   "name": "python",
   "nbconvert_exporter": "python",
   "pygments_lexer": "ipython3",
   "version": "3.10.11"
  }
 },
 "nbformat": 4,
 "nbformat_minor": 0
}
