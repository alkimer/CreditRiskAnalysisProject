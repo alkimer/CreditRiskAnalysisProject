{
 "cells": [
  {
   "cell_type": "markdown",
   "metadata": {},
   "source": [
    "### 1. Importing the necessary libraries\n"
   ]
  },
  {
   "cell_type": "code",
   "execution_count": 1,
   "metadata": {},
   "outputs": [
    {
     "name": "stderr",
     "output_type": "stream",
     "text": [
      "c:\\Users\\Administrator\\Desktop\\CreditRiskAnalysisProject\\.venv\\lib\\site-packages\\tqdm\\auto.py:21: TqdmWarning: IProgress not found. Please update jupyter and ipywidgets. See https://ipywidgets.readthedocs.io/en/stable/user_install.html\n",
      "  from .autonotebook import tqdm as notebook_tqdm\n"
     ]
    },
    {
     "data": {
      "text/html": [
       "\n",
       "            <div>\n",
       "                <ins><a href=\"https://ydata.ai/register\">Upgrade to ydata-sdk</a></ins>\n",
       "                <p>\n",
       "                    Improve your data and profiling with ydata-sdk, featuring data quality scoring, redundancy detection, outlier identification, text validation, and synthetic data generation.\n",
       "                </p>\n",
       "            </div>\n",
       "            "
      ],
      "text/plain": [
       "<IPython.core.display.HTML object>"
      ]
     },
     "metadata": {},
     "output_type": "display_data"
    },
    {
     "name": "stderr",
     "output_type": "stream",
     "text": [
      "\u001b[32m2025-06-11 00:07:06.854\u001b[0m | \u001b[1mINFO    \u001b[0m | \u001b[36msrc.config\u001b[0m:\u001b[36m<module>\u001b[0m:\u001b[36m11\u001b[0m - \u001b[1mPROJ_ROOT path is: C:\\Users\\Administrator\\Desktop\\CreditRiskAnalysisProject\u001b[0m\n"
     ]
    }
   ],
   "source": [
    "import pandas as pd\n",
    "import matplotlib.pyplot as plt\n",
    "import os\n",
    "import sys\n",
    "import matplotlib.image as mpimg\n",
    "from ydata_profiling import ProfileReport\n",
    "import glob\n",
    "project_root = os.path.abspath(os.path.join(os.getcwd(), '..'))\n",
    "sys.path.append(project_root)\n",
    "\n",
    "from src.data.make_dataset import rename_columns_in_txt_files\n",
    "from src.data.eda_utils import column_analysis,dataset_analysis,column_visualization, is_target_imbalanced\n",
    "from src.data.data_utils import get_feature_target, get_train_val_sets\n",
    "from src.preprocessing import preprocess_data\n",
    "from src.config import RAW_DATA_DIR, EXTERNAL_DATA_DIR, INTERIM_DATA_DIR"
   ]
  },
  {
   "cell_type": "markdown",
   "metadata": {},
   "source": [
    "### 2. Collect the data"
   ]
  },
  {
   "cell_type": "code",
   "execution_count": null,
   "metadata": {},
   "outputs": [],
   "source": [
    "Here you will be extracting the information from different sources."
   ]
  },
  {
   "cell_type": "code",
   "execution_count": 2,
   "metadata": {},
   "outputs": [
    {
     "name": "stdout",
     "output_type": "stream",
     "text": [
      "1 files processed and saved to 'C:\\Users\\Administrator\\Desktop\\CreditRiskAnalysisProject\\data\\interim'\n"
     ]
    }
   ],
   "source": [
    "# Converting the raw data files by renaming their columns based on a mapping from an Excel file and saving the results in interim folder\n",
    "\n",
    "rename_columns_in_txt_files(\n",
    "    txt_folder=str(RAW_DATA_DIR),\n",
    "    xls_file=str(EXTERNAL_DATA_DIR / 'PAKDD2010_VariablesList.xls'),\n",
    "    output_folder=str(INTERIM_DATA_DIR)\n",
    ")"
   ]
  },
  {
   "cell_type": "markdown",
   "metadata": {},
   "source": [
    "### 3. Exploración y análisis de datos (EDA)"
   ]
  },
  {
   "cell_type": "code",
   "execution_count": 2,
   "metadata": {},
   "outputs": [
    {
     "name": "stderr",
     "output_type": "stream",
     "text": [
      "C:\\Users\\Administrator\\AppData\\Local\\Temp\\ipykernel_18740\\1819737216.py:7: DtypeWarning: Columns (51,52) have mixed types. Specify dtype option on import or set low_memory=False.\n",
      "  df_txt = pd.read_csv(file, delimiter='\\t',encoding='latin1')  # Cambia delimitador si es necesario\n"
     ]
    },
    {
     "name": "stdout",
     "output_type": "stream",
     "text": [
      "\n",
      "--- EDA para C:\\Users\\Administrator\\Desktop\\CreditRiskAnalysisProject\\data\\interim\\PAKDD2010_Modeling_Data_with_columns.txt ---\n",
      "\n",
      "Dataset statistics\n",
      "\n",
      "Number of variables:\t\t54\n",
      "Number of observations:\t\t50000\n",
      "Missing cells:\t\t\t148983\n",
      "Missing cells (%):\t\t5.5%\n",
      "Duplicate rows:\t\t\t0\n",
      "Duplicate rows (%):\t\t0.0%\n",
      "\n",
      "Variable types\n",
      "\n",
      "Numeric:\t34\n",
      "Categorical:\t20\n",
      "Text:\t\t0\n",
      "Boolean:\t0\n",
      "\n",
      "Columnas categóricas: ['CLERK_TYPE', 'APPLICATION_SUBMISSION_TYPE', 'SEX', 'STATE_OF_BIRTH', 'CITY_OF_BIRTH', 'RESIDENCIAL_STATE', 'RESIDENCIAL_CITY', 'RESIDENCIAL_BOROUGH', 'FLAG_RESIDENCIAL_PHONE', 'RESIDENCIAL_PHONE_AREA_CODE', 'FLAG_MOBILE_PHONE', 'COMPANY', 'PROFESSIONAL_STATE', 'PROFESSIONAL_CITY', 'PROFESSIONAL_BOROUGH', 'FLAG_PROFESSIONAL_PHONE', 'PROFESSIONAL_PHONE_AREA_CODE', 'FLAG_ACSP_RECORD', 'RESIDENCIAL_ZIP_3', 'PROFESSIONAL_ZIP_3']\n",
      "Columnas numéricas: ['ID_CLIENT', 'PAYMENT_DAY', 'QUANT_ADDITIONAL_CARDS', 'POSTAL_ADDRESS_TYPE', 'MARITAL_STATUS', 'QUANT_DEPENDANTS', 'EDUCATION_LEVEL', 'NACIONALITY', 'RESIDENCE_TYPE', 'MONTHS_IN_RESIDENCE', 'FLAG_EMAIL', 'PERSONAL_MONTHLY_INCOME', 'OTHER_INCOMES', 'FLAG_VISA', 'FLAG_MASTERCARD', 'FLAG_DINERS', 'FLAG_AMERICAN_EXPRESS', 'FLAG_OTHER_CARDS', 'QUANT_BANKING_ACCOUNTS', 'QUANT_SPECIAL_BANKING_ACCOUNTS', 'PERSONAL_ASSETS_VALUE', 'QUANT_CARS', 'MONTHS_IN_THE_JOB', 'PROFESSION_CODE', 'OCCUPATION_TYPE', 'MATE_PROFESSION_CODE', 'EDUCATION_LEVEL.1', 'FLAG_HOME_ADDRESS_DOCUMENT', 'FLAG_RG', 'FLAG_CPF', 'FLAG_INCOME_PROOF', 'PRODUCT', 'AGE', 'TARGET_LABEL_BAD=1']\n",
      "\n",
      "Columnas con 'target' en el nombre: ['TARGET_LABEL_BAD=1']\n"
     ]
    }
   ],
   "source": [
    "# Buscar archivos .txt\n",
    "txt_files = glob.glob(os.path.join(INTERIM_DATA_DIR, \"*.txt\"))\n",
    "\n",
    "# Leer y analizar cada TXT (ajusta el delimiter según corresponda)\n",
    "for file in txt_files:\n",
    "    try:\n",
    "        df_txt = pd.read_csv(file, delimiter='\\t',encoding='latin1')  # Cambia delimitador si es necesario\n",
    "        dataset_analysis(df_txt, file)\n",
    "    except Exception as e:\n",
    "        print(f\"No se pudo leer {file}: {e}\")\n"
   ]
  },
  {
   "cell_type": "code",
   "execution_count": 3,
   "metadata": {},
   "outputs": [
    {
     "name": "stdout",
     "output_type": "stream",
     "text": [
      "Class counts:\n",
      "TARGET_LABEL_BAD=1\n",
      "0    36959\n",
      "1    13041\n",
      "Name: count, dtype: int64\n",
      "\n",
      "Class proportions:\n",
      "TARGET_LABEL_BAD=1\n",
      "0    73.92%\n",
      "1    26.08%\n",
      "Name: proportion, dtype: object\n",
      "\n",
      "✅ Target is balanced (no class exceeds 75%).\n"
     ]
    }
   ],
   "source": [
    "target_column='TARGET_LABEL_BAD=1'\n",
    "df=df_txt\n",
    "\n",
    "imbalanced = is_target_imbalanced(df, target_column)"
   ]
  },
  {
   "cell_type": "markdown",
   "metadata": {},
   "source": [
    "### 3.1 Column analysis"
   ]
  },
  {
   "cell_type": "code",
   "execution_count": 4,
   "metadata": {},
   "outputs": [
    {
     "name": "stdout",
     "output_type": "stream",
     "text": [
      "\n",
      "--- Análisis para la columna 'CLERK_TYPE' ---\n",
      "\n",
      "Tipo de dato: object\n",
      "Número de valores distintos (incluye NaN): 1\n",
      "Valores nulos: 0 (0.00%)\n",
      "Outliers detectados: No aplica (columna no numérica)\n",
      "\n",
      "Correlación: No aplica (columna no numérica)\n",
      "\n",
      "Interacción con la variable 'TARGET_LABEL_BAD=1':\n",
      "TARGET_LABEL_BAD=1      0      1    All\n",
      "CLERK_TYPE                             \n",
      "C                   36959  13041  50000\n",
      "All                 36959  13041  50000\n",
      "\n",
      "Proporción de clase positiva (target=1) por categoría:\n",
      "CLERK_TYPE\n",
      "C      26.08%\n",
      "All    26.08%\n",
      "dtype: object\n",
      "\n",
      "Diferencia máxima entre proporciones: 0.00%\n",
      "La diferencia entre las categorías es pequeña. Esta variable probablemente tiene poco valor predictivo.\n",
      "\n",
      "--- Visualización para la columna 'CLERK_TYPE' ---\n",
      "\n"
     ]
    },
    {
     "name": "stderr",
     "output_type": "stream",
     "text": [
      "c:\\Users\\Administrator\\Desktop\\CreditRiskAnalysisProject\\src\\data\\eda_utils.py:199: FutureWarning: \n",
      "\n",
      "Passing `palette` without assigning `hue` is deprecated and will be removed in v0.14.0. Assign the `x` variable to `hue` and set `legend=False` for the same effect.\n",
      "\n",
      "  sns.countplot(data=df, x=columna, order=order, palette='Set2')\n"
     ]
    },
    {
     "data": {
      "text/plain": [
       "<Figure size 1000x600 with 0 Axes>"
      ]
     },
     "metadata": {},
     "output_type": "display_data"
    },
    {
     "data": {
      "image/png": "[encoded data removed]",
      "text/plain": [
       "<Figure size 1000x600 with 1 Axes>"
      ]
     },
     "metadata": {},
     "output_type": "display_data"
    },
    {
     "data": {
      "image/png": "[encoded data removed]",
      "text/plain": [
       "<Figure size 1000x600 with 1 Axes>"
      ]
     },
     "metadata": {},
     "output_type": "display_data"
    }
   ],
   "source": [
    "column= 'CLERK_TYPE'\n",
    "column_analysis(df, column, target_col=target_column)\n",
    "column_visualization(df, column, target_col=target_column)"
   ]
  },
  {
   "cell_type": "markdown",
   "metadata": {},
   "source": [
    "### 4. Preprocessing"
   ]
  },
  {
   "cell_type": "code",
   "execution_count": 5,
   "metadata": {},
   "outputs": [
    {
     "name": "stdout",
     "output_type": "stream",
     "text": [
      "✅ Separación realizada correctamente.\n",
      "x_train shape: (50000, 53)\n",
      "y_train shape: (50000,)\n",
      "x_test shape: (50000, 53)\n",
      "y_test shape: (50000,)\n"
     ]
    }
   ],
   "source": [
    "#Separate train and test dataset\n",
    "\n",
    "x_train, y_train, x_test, y_test = get_feature_target(df, df, target_column=target_column)\n",
    "print(\"✅ Separación realizada correctamente.\")\n",
    "print(f\"x_train shape: {x_train.shape}\")\n",
    "print(f\"y_train shape: {y_train.shape}\")\n",
    "print(f\"x_test shape: {x_test.shape}\")\n",
    "print(f\"y_test shape: {y_test.shape}\")\n"
   ]
  },
  {
   "cell_type": "code",
   "execution_count": 6,
   "metadata": {},
   "outputs": [
    {
     "name": "stdout",
     "output_type": "stream",
     "text": [
      "✅ División en train/val realizada correctamente.\n",
      "x_train shape: (40000, 53)\n",
      "y_train shape: (40000,)\n",
      "x_val shape:   (10000, 53)\n",
      "y_val shape:   (10000,)\n"
     ]
    }
   ],
   "source": [
    "x_train, x_val, y_train, y_val = get_train_val_sets(x_train,y_train) \n",
    "print(\"✅ División en train/val realizada correctamente.\")\n",
    "print(f\"x_train shape: {x_train.shape}\")\n",
    "print(f\"y_train shape: {y_train.shape}\")\n",
    "print(f\"x_val shape:   {x_val.shape}\")\n",
    "print(f\"y_val shape:   {y_val.shape}\")"
   ]
  },
  {
   "cell_type": "code",
   "execution_count": 7,
   "metadata": {},
   "outputs": [
    {
     "name": "stdout",
     "output_type": "stream",
     "text": [
      "ℹ️  Columnas categóricas descartadas por alta cardinalidad (> 50): {'PROFESSIONAL_BOROUGH', 'PROFESSIONAL_PHONE_AREA_CODE', 'RESIDENCIAL_ZIP_3', 'PROFESSIONAL_CITY', 'CITY_OF_BIRTH', 'RESIDENCIAL_CITY', 'PROFESSIONAL_ZIP_3', 'RESIDENCIAL_PHONE_AREA_CODE', 'RESIDENCIAL_BOROUGH'}\n"
     ]
    }
   ],
   "source": [
    "processed = preprocess_data(x_train, x_val, x_test, y_train, y_val, y_test)\n",
    "\n",
    "x_train_bal, y_train_bal = processed.train_data\n",
    "x_val_proc, y_val = processed.val_data\n",
    "x_test_proc, y_test = processed.test_data\n",
    "\n",
    "# Si quieres los DataFrames completos con target\n",
    "df_train = processed.preprocessed_dfs['train']\n",
    "df_val = processed.preprocessed_dfs['val']\n",
    "df_test = processed.preprocessed_dfs['test']\n"
   ]
  },
  {
   "cell_type": "code",
   "execution_count": 8,
   "metadata": {},
   "outputs": [
    {
     "name": "stdout",
     "output_type": "stream",
     "text": [
      "Class counts:\n",
      "TARGET_LABEL_BAD=1\n",
      "0    29555\n",
      "1    29555\n",
      "Name: count, dtype: int64\n",
      "\n",
      "Class proportions:\n",
      "TARGET_LABEL_BAD=1\n",
      "0    50.00%\n",
      "1    50.00%\n",
      "Name: proportion, dtype: object\n",
      "\n",
      "✅ Target is balanced (no class exceeds 75%).\n"
     ]
    },
    {
     "data": {
      "text/plain": [
       "False"
      ]
     },
     "execution_count": 8,
     "metadata": {},
     "output_type": "execute_result"
    }
   ],
   "source": [
    "# Accedés al DataFrame preprocesado de entrenamiento\n",
    "df_train = processed.preprocessed_dfs['train']\n",
    "\n",
    "# Llamás a tu función\n",
    "is_target_imbalanced(df_train, target_col=y_train.name)"
   ]
  }
 ],
 "metadata": {
  "colab": {
   "authorship_tag": "ABX9TyMSKj1PqFx+8sVuVDRQ9arJ",
   "provenance": []
  },
  "kernelspec": {
   "display_name": ".venv",
   "language": "python",
   "name": "python3"
  },
  "language_info": {
   "codemirror_mode": {
    "name": "ipython",
    "version": 3
   },
   "file_extension": ".py",
   "mimetype": "text/x-python",
   "name": "python",
   "nbconvert_exporter": "python",
   "pygments_lexer": "ipython3",
   "version": "3.10.11"
  }
 },
 "nbformat": 4,
 "nbformat_minor": 0
}
